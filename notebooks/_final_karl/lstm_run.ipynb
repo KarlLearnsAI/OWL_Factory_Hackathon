{
 "cells": [
  {
   "attachments": {},
   "cell_type": "markdown",
   "metadata": {},
   "source": [
    "# Imports"
   ]
  },
  {
   "cell_type": "code",
   "execution_count": 259,
   "metadata": {},
   "outputs": [],
   "source": [
    "import torch\n",
    "import torch.nn as nn\n",
    "import torch.optim as optim\n",
    "from sklearn.preprocessing import StandardScaler\n",
    "from torch.utils.data import DataLoader, TensorDataset\n",
    "import pandas as pd\n",
    "import torch.nn.functional as F\n",
    "import numpy as np\n",
    "import pickle\n",
    "from sklearn.metrics import mean_absolute_error"
   ]
  },
  {
   "attachments": {},
   "cell_type": "markdown",
   "metadata": {},
   "source": [
    "# Settings"
   ]
  },
  {
   "cell_type": "code",
   "execution_count": 260,
   "metadata": {},
   "outputs": [],
   "source": [
    "DAY_EVAL = True"
   ]
  },
  {
   "attachments": {},
   "cell_type": "markdown",
   "metadata": {},
   "source": [
    "# Load Data"
   ]
  },
  {
   "cell_type": "code",
   "execution_count": 261,
   "metadata": {},
   "outputs": [],
   "source": [
    "# Load in the data\n",
    "X1_train = pd.read_parquet('../../data/preprocessed/full_data.pq')\n",
    "X1_test = pd.read_parquet('../../data/preprocessed/test_x.pq')\n",
    "y1_train = pd.read_parquet('../../data/preprocessed/full_data_y.pq')\n",
    "y1_test = pd.read_parquet('../../data/preprocessed/test_y.pq')"
   ]
  },
  {
   "cell_type": "code",
   "execution_count": 262,
   "metadata": {},
   "outputs": [
    {
     "data": {
      "text/plain": [
       "Index(['ProzessData_ActData_AB1_Analogs_DX1_MassPressure',\n",
       "       'ProzessData_ActData_AB1_Analogs_GY1_MassLevelTank',\n",
       "       'ProzessData_ActData_AB1_Current_DV1_Scraper',\n",
       "       'ProzessData_ActData_AB1_Current_DW1_RiserPumpFwd',\n",
       "       'ProzessData_ActData_AB1_Speed_DV1_Scraper',\n",
       "       'ProzessData_ActData_AB1_Speed_DW1_RiserPumpFwd',\n",
       "       'ProzessData_ActData_AB1_Temperature_DP1_MassHeatingStage',\n",
       "       'ProzessData_ActData_AB1_Temperature_DP1_WaterHeatingStage',\n",
       "       'ProzessData_ActData_AB1_Temperature_DQ1_MassCoolingStage',\n",
       "       'ProzessData_ActData_AB1_Temperature_DQ1_WaterCoolingStage',\n",
       "       'ProzessData_ActData_AB1_Temperature_DR1_WaterMixingStage',\n",
       "       'ProzessData_ActData_AB1_Temperature_DS1_WaterPipe',\n",
       "       'ProzessData_ActData_AB1_Temperature_DU1_WaterTank',\n",
       "       'ProzessData_ActData_AB1_Temperature_DX1_MassInfeed'],\n",
       "      dtype='object')"
      ]
     },
     "execution_count": 262,
     "metadata": {},
     "output_type": "execute_result"
    }
   ],
   "source": [
    "X1_test.columns"
   ]
  },
  {
   "cell_type": "code",
   "execution_count": 263,
   "metadata": {},
   "outputs": [],
   "source": [
    "def add_time_features(df):\n",
    "    df['hour'] = df.index.hour\n",
    "    df['minute'] = df.index.minute\n",
    "    daytime_arr = []\n",
    "    for idx in df.index:\n",
    "        if df.loc[idx, \"hour\"] == 4 and df.loc[idx, \"minute\"] >= 30:\n",
    "            daytime_arr.append(1)\n",
    "        elif df.loc[idx, \"hour\"] > 4 and df.loc[idx, \"hour\"] < 16:\n",
    "            daytime_arr.append(1)\n",
    "        elif df.loc[idx, \"hour\"] == 16 and df.loc[idx, \"minute\"] <= 40:\n",
    "            daytime_arr.append(1)\n",
    "        else:\n",
    "            daytime_arr.append(0)\n",
    "\n",
    "    df['day_time'] = daytime_arr\n",
    "    df['night_time'] = 1 - df['day_time']\n",
    "    return df\n",
    "\n",
    "X1_test = add_time_features(X1_test)"
   ]
  },
  {
   "cell_type": "code",
   "execution_count": 264,
   "metadata": {},
   "outputs": [
    {
     "data": {
      "text/plain": [
       "Index(['ProzessData_ActData_AB1_Analogs_DX1_MassPressure',\n",
       "       'ProzessData_ActData_AB1_Analogs_GY1_MassLevelTank',\n",
       "       'ProzessData_ActData_AB1_Current_DV1_Scraper',\n",
       "       'ProzessData_ActData_AB1_Current_DW1_RiserPumpFwd',\n",
       "       'ProzessData_ActData_AB1_Speed_DV1_Scraper',\n",
       "       'ProzessData_ActData_AB1_Speed_DW1_RiserPumpFwd',\n",
       "       'ProzessData_ActData_AB1_Temperature_DP1_MassHeatingStage',\n",
       "       'ProzessData_ActData_AB1_Temperature_DP1_WaterHeatingStage',\n",
       "       'ProzessData_ActData_AB1_Temperature_DQ1_MassCoolingStage',\n",
       "       'ProzessData_ActData_AB1_Temperature_DQ1_WaterCoolingStage',\n",
       "       'ProzessData_ActData_AB1_Temperature_DR1_WaterMixingStage',\n",
       "       'ProzessData_ActData_AB1_Temperature_DS1_WaterPipe',\n",
       "       'ProzessData_ActData_AB1_Temperature_DU1_WaterTank',\n",
       "       'ProzessData_ActData_AB1_Temperature_DX1_MassInfeed', 'hour', 'minute',\n",
       "       'day_time', 'night_time'],\n",
       "      dtype='object')"
      ]
     },
     "execution_count": 264,
     "metadata": {},
     "output_type": "execute_result"
    }
   ],
   "source": [
    "X1_test.columns"
   ]
  },
  {
   "cell_type": "code",
   "execution_count": 265,
   "metadata": {},
   "outputs": [],
   "source": [
    "# Data for Day Model\n",
    "X1_train_day = X1_train[X1_train['day_time'] == 1]\n",
    "y1_train_day = y1_train[X1_train['day_time'] == 1]\n",
    "X1_test_day = X1_test[X1_test['day_time'] == 1]\n",
    "y1_test_day = y1_test[X1_test['day_time'] == 1]\n",
    "\n",
    "# Data for Night Model\n",
    "X1_train_night = X1_train[X1_train['day_time'] == 0]\n",
    "y1_train_night = y1_train[X1_train['day_time'] == 0]\n",
    "X1_test_night = X1_train[X1_train['day_time'] == 0]\n",
    "y1_test_night = y1_train[X1_train['day_time'] == 0]\n",
    "\n",
    "X1_train_day = X1_train_day.drop(columns=['day_time', 'night_time'])\n",
    "X1_test_day = X1_test_day.drop(columns=['day_time', 'night_time'])\n",
    "X1_train_night = X1_train_night.drop(columns=['day_time', 'night_time'])\n",
    "X1_test_night = X1_test_night.drop(columns=['day_time', 'night_time'])"
   ]
  },
  {
   "cell_type": "code",
   "execution_count": 266,
   "metadata": {},
   "outputs": [],
   "source": [
    "if DAY_EVAL:\n",
    "    MODEL_PATH = \"../../models/final_lstm_day.pth\"\n",
    "    train_x = X1_train_day\n",
    "    train_y = y1_train_day\n",
    "    test_x = X1_test_day\n",
    "    test_y = y1_test_day\n",
    "else:\n",
    "    MODEL_PATH = \"../../models/final_lstm_night.pth\"\n",
    "    train_x = X1_train_night\n",
    "    train_y = y1_train_night\n",
    "    test_x = X1_test_night\n",
    "    test_y = y1_test_night"
   ]
  },
  {
   "cell_type": "code",
   "execution_count": 267,
   "metadata": {},
   "outputs": [
    {
     "name": "stdout",
     "output_type": "stream",
     "text": [
      "(482460, 16)\n",
      "Index(['ProzessData_ActData_AB1_Analogs_DX1_MassPressure',\n",
      "       'ProzessData_ActData_AB1_Analogs_GY1_MassLevelTank',\n",
      "       'ProzessData_ActData_AB1_Current_DV1_Scraper',\n",
      "       'ProzessData_ActData_AB1_Current_DW1_RiserPumpFwd',\n",
      "       'ProzessData_ActData_AB1_Speed_DV1_Scraper',\n",
      "       'ProzessData_ActData_AB1_Speed_DW1_RiserPumpFwd',\n",
      "       'ProzessData_ActData_AB1_Temperature_DP1_MassHeatingStage',\n",
      "       'ProzessData_ActData_AB1_Temperature_DP1_WaterHeatingStage',\n",
      "       'ProzessData_ActData_AB1_Temperature_DQ1_MassCoolingStage',\n",
      "       'ProzessData_ActData_AB1_Temperature_DQ1_WaterCoolingStage',\n",
      "       'ProzessData_ActData_AB1_Temperature_DR1_WaterMixingStage',\n",
      "       'ProzessData_ActData_AB1_Temperature_DS1_WaterPipe',\n",
      "       'ProzessData_ActData_AB1_Temperature_DU1_WaterTank',\n",
      "       'ProzessData_ActData_AB1_Temperature_DX1_MassInfeed', 'hour', 'minute'],\n",
      "      dtype='object')\n",
      "(482460, 14)\n",
      "Index(['ProzessData_ActData_AB1_Analogs_DX1_MassPressure',\n",
      "       'ProzessData_ActData_AB1_Analogs_GY1_MassLevelTank',\n",
      "       'ProzessData_ActData_AB1_Current_DV1_Scraper',\n",
      "       'ProzessData_ActData_AB1_Current_DW1_RiserPumpFwd',\n",
      "       'ProzessData_ActData_AB1_Speed_DV1_Scraper',\n",
      "       'ProzessData_ActData_AB1_Speed_DW1_RiserPumpFwd',\n",
      "       'ProzessData_ActData_AB1_Temperature_DP1_MassHeatingStage',\n",
      "       'ProzessData_ActData_AB1_Temperature_DP1_WaterHeatingStage',\n",
      "       'ProzessData_ActData_AB1_Temperature_DQ1_MassCoolingStage',\n",
      "       'ProzessData_ActData_AB1_Temperature_DQ1_WaterCoolingStage',\n",
      "       'ProzessData_ActData_AB1_Temperature_DR1_WaterMixingStage',\n",
      "       'ProzessData_ActData_AB1_Temperature_DS1_WaterPipe',\n",
      "       'ProzessData_ActData_AB1_Temperature_DU1_WaterTank',\n",
      "       'ProzessData_ActData_AB1_Temperature_DX1_MassInfeed'],\n",
      "      dtype='object')\n"
     ]
    }
   ],
   "source": [
    "print(train_x.shape)\n",
    "print(train_x.columns)\n",
    "train_x = train_x.drop(columns=['hour', 'minute'])\n",
    "print(train_x.shape)\n",
    "print(train_x.columns)"
   ]
  },
  {
   "cell_type": "code",
   "execution_count": 268,
   "metadata": {},
   "outputs": [
    {
     "data": {
      "image/png": "[encoded data removed]",
      "text/plain": [
       "<Figure size 640x480 with 1 Axes>"
      ]
     },
     "metadata": {},
     "output_type": "display_data"
    }
   ],
   "source": [
    "from sklearn.decomposition import PCA\n",
    "import matplotlib.pyplot as plt\n",
    "\n",
    "device = torch.device('cuda' if torch.cuda.is_available() else 'cpu')\n",
    "target_column = 'ProzessData_ActData_AB1_Temperature_DR1_MassMixingStage'\n",
    "\n",
    "# Normalize features in train_x (excluding the timestamp column)\n",
    "scaler_x = StandardScaler()\n",
    "train_x_scaled = scaler_x.fit_transform(train_x.to_numpy())  # Adjust if the first column isn't the timestamp\n",
    "\n",
    "# Perform PCA\n",
    "pca = PCA()\n",
    "X1_train_day_pca = pca.fit_transform(train_x_scaled)\n",
    "\n",
    "# Calculate the proportion of variance explained\n",
    "pve = pca.explained_variance_ratio_\n",
    "cumulative_pve = np.cumsum(pve)\n",
    "\n",
    "# Plot the PVE\n",
    "plt.plot(range(1, len(pve) + 1), cumulative_pve, marker='o')\n",
    "plt.xlabel('Number of Principal Components')\n",
    "plt.ylabel('Cumulative Proportion of Variance Explained')\n",
    "plt.title('PVE Plot')\n",
    "plt.show()"
   ]
  },
  {
   "cell_type": "code",
   "execution_count": 269,
   "metadata": {},
   "outputs": [],
   "source": [
    "from sklearn.decomposition import PCA\n",
    "\n",
    "# Perform PCA\n",
    "pca = PCA(n_components=3)\n",
    "train_x_pca = pca.fit_transform(train_x_scaled)"
   ]
  },
  {
   "cell_type": "code",
   "execution_count": 270,
   "metadata": {},
   "outputs": [],
   "source": [
    "from sklearn.decomposition import PCA\n",
    "device = torch.device('cuda' if torch.cuda.is_available() else 'cpu')\n",
    "target_column = 'ProzessData_ActData_AB1_Temperature_DR1_MassMixingStage'\n",
    "\n",
    "train_x_tensor = torch.tensor(train_x_pca).float().unsqueeze(1) # train_x_scaled\n",
    "\n",
    "# scaler_y = StandardScaler()\n",
    "# train_y_scaled = scaler_y.fit_transform(train_y[[target_column]])\n",
    "train_y_tensor = torch.tensor(train_y.to_numpy()).float() # train_y_scaled | Night: test_y\n",
    "\n",
    "# DataLoader\n",
    "train_dataset = TensorDataset(train_x_tensor, train_y_tensor)\n",
    "train_loader = DataLoader(train_dataset, batch_size=32, shuffle=False) # changed to False"
   ]
  },
  {
   "cell_type": "code",
   "execution_count": 271,
   "metadata": {},
   "outputs": [],
   "source": [
    "# Prefixed\n",
    "input_dim = 3\n",
    "\n",
    "# Goal: MAE: 0.0559\n",
    "weight_decay=0.001\n",
    "clip_value=6.480203110123226\n",
    "hidden_dim=32\n",
    "num_layers=3\n",
    "dropout_rate=0.10901259861276512\n",
    "lr=0.0006423716455944324\n",
    "batch_size=32"
   ]
  },
  {
   "attachments": {},
   "cell_type": "markdown",
   "metadata": {},
   "source": [
    "## Load Trained Model"
   ]
  },
  {
   "cell_type": "code",
   "execution_count": 272,
   "metadata": {},
   "outputs": [
    {
     "data": {
      "text/plain": [
       "<All keys matched successfully>"
      ]
     },
     "execution_count": 272,
     "metadata": {},
     "output_type": "execute_result"
    }
   ],
   "source": [
    "device = torch.device('cuda:0')\n",
    "\n",
    "class LSTMModel(nn.Module):\n",
    "    def __init__(self, input_dim, hidden_dim, num_layers, dropout_rate):\n",
    "        super(LSTMModel, self).__init__()\n",
    "        self.lstm = nn.LSTM(input_dim, hidden_dim, num_layers, batch_first=True, dropout=dropout_rate)\n",
    "        self.fc = nn.Linear(hidden_dim, 1) \n",
    "\n",
    "    def forward(self, x):\n",
    "        lstm_out, _ = self.lstm(x)\n",
    "        out = self.fc(lstm_out[:, -1, :])\n",
    "        return out\n",
    "\n",
    "\n",
    "# Load the dictionary\n",
    "model_info = torch.load(MODEL_PATH)\n",
    "\n",
    "# Extract the model state and the additional values\n",
    "state_dict = model_info['state_dict']\n",
    "input_dim = model_info['input_dim']\n",
    "hidden_dim = model_info['hidden_dim']\n",
    "num_layers = model_info['num_layers']\n",
    "dropout_rate = model_info['dropout_rate']\n",
    "output_dim = model_info['output_dim']\n",
    "\n",
    "# Create a new model with the additional values\n",
    "model = LSTMModel(input_dim, hidden_dim, num_layers, dropout_rate).to(device)\n",
    "# model = LSTMModel(input_dim, hidden_dim, num_layers).to(device)\n",
    "model.load_state_dict(state_dict)"
   ]
  },
  {
   "cell_type": "code",
   "execution_count": 273,
   "metadata": {},
   "outputs": [
    {
     "data": {
      "text/plain": [
       "(131580, 16)"
      ]
     },
     "execution_count": 273,
     "metadata": {},
     "output_type": "execute_result"
    }
   ],
   "source": [
    "test_x.shape"
   ]
  },
  {
   "cell_type": "code",
   "execution_count": 274,
   "metadata": {},
   "outputs": [
    {
     "name": "stdout",
     "output_type": "stream",
     "text": [
      "Mean Absolute Error: 0.091283649506042\n",
      "Examples:\n",
      "tensor([[41.7585],\n",
      "        [41.5156],\n",
      "        [41.9818],\n",
      "        ...,\n",
      "        [41.5154],\n",
      "        [41.5154],\n",
      "        [41.5154]], device='cuda:0', grad_fn=<AddmmBackward0>)\n",
      "                           ProzessData_ActData_AB1_Temperature_DR1_MassMixingStage\n",
      "2023-04-11 04:30:00+00:00                                               41.5      \n",
      "2023-04-11 04:30:01+00:00                                               41.5      \n",
      "2023-04-11 04:30:02+00:00                                               41.5      \n",
      "2023-04-11 04:30:03+00:00                                               41.5      \n",
      "2023-04-11 04:30:04+00:00                                               41.5      \n",
      "...                                                                      ...      \n",
      "2023-04-13 16:40:55+00:00                                               41.5      \n",
      "2023-04-13 16:40:56+00:00                                               41.5      \n",
      "2023-04-13 16:40:57+00:00                                               41.5      \n",
      "2023-04-13 16:40:58+00:00                                               41.5      \n",
      "2023-04-13 16:40:59+00:00                                               41.5      \n",
      "\n",
      "[131580 rows x 1 columns]\n"
     ]
    }
   ],
   "source": [
    "test_x = test_x.drop(columns=['hour', 'minute'])\n",
    "test_x_scaled = scaler_x.transform(test_x.to_numpy())\n",
    "test_x_pca = pca.transform(test_x_scaled)\n",
    "test_x_tensor = torch.tensor(test_x_pca).float().unsqueeze(1).to(device)\n",
    "predictions = model(test_x_tensor)\n",
    "mae = mean_absolute_error(test_y, predictions.cpu().detach().numpy())\n",
    "print('Mean Absolute Error:', mae)\n",
    "print(\"Examples:\")\n",
    "print(predictions)\n",
    "print(test_y)"
   ]
  },
  {
   "attachments": {},
   "cell_type": "markdown",
   "metadata": {},
   "source": [
    "Day MAE: 0.071-0.105\n",
    "\n",
    "Night MAE: 0.01"
   ]
  }
 ],
 "metadata": {
  "kernelspec": {
   "display_name": "jhn_ml",
   "language": "python",
   "name": "python3"
  },
  "language_info": {
   "codemirror_mode": {
    "name": "ipython",
    "version": 3
   },
   "file_extension": ".py",
   "mimetype": "text/x-python",
   "name": "python",
   "nbconvert_exporter": "python",
   "pygments_lexer": "ipython3",
   "version": "3.10.12"
  },
  "orig_nbformat": 4,
  "vscode": {
   "interpreter": {
    "hash": "7ba48d1dfc31994510d1202d5cc1ad7c5341fe2fe772e21645b10ef4af5c8f4c"
   }
  }
 },
 "nbformat": 4,
 "nbformat_minor": 2
}
