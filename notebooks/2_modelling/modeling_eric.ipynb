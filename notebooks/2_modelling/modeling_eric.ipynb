{
 "cells": [
  {
   "cell_type": "code",
   "execution_count": 1,
   "metadata": {},
   "outputs": [
    {
     "name": "stderr",
     "output_type": "stream",
     "text": [
      "c:\\Anaconda3\\lib\\site-packages\\scipy\\__init__.py:146: UserWarning: A NumPy version >=1.16.5 and <1.23.0 is required for this version of SciPy (detected version 1.26.2\n",
      "  warnings.warn(f\"A NumPy version >={np_minversion} and <{np_maxversion}\"\n"
     ]
    }
   ],
   "source": [
    "import numpy as np\n",
    "import pandas as pd\n",
    "import matplotlib.pyplot as plt\n",
    "import seaborn as sns\n",
    "from datetime import datetime\n",
    "from sklearn.manifold import MDS\n",
    "from sklearn.metrics import mean_absolute_error, mean_squared_error\n",
    "from sklearn.model_selection import train_test_split\n",
    "from sklearn.preprocessing import StandardScaler\n",
    "from sklearn.decomposition import PCA\n",
    "from sklearn.model_selection import cross_val_score, KFold\n",
    "from sklearn.linear_model import LogisticRegression\n",
    "from sklearn.svm import SVR"
   ]
  },
  {
   "cell_type": "code",
   "execution_count": 2,
   "metadata": {},
   "outputs": [],
   "source": [
    "train_x = pd.read_csv(r\"C:\\Users\\ethor\\Desktop\\hackathon\\OWL_Factory_Hackathon\\data\\train_x.csv\", index_col=0)"
   ]
  },
  {
   "cell_type": "code",
   "execution_count": 3,
   "metadata": {},
   "outputs": [],
   "source": [
    "train_y = pd.read_csv(r\"C:\\Users\\ethor\\Desktop\\hackathon\\OWL_Factory_Hackathon\\data\\train_y.csv\", index_col=0)"
   ]
  },
  {
   "cell_type": "code",
   "execution_count": null,
   "metadata": {},
   "outputs": [
    {
     "data": {
      "text/html": [
       "<div>\n",
       "<style scoped>\n",
       "    .dataframe tbody tr th:only-of-type {\n",
       "        vertical-align: middle;\n",
       "    }\n",
       "\n",
       "    .dataframe tbody tr th {\n",
       "        vertical-align: top;\n",
       "    }\n",
       "\n",
       "    .dataframe thead th {\n",
       "        text-align: right;\n",
       "    }\n",
       "</style>\n",
       "<table border=\"1\" class=\"dataframe\">\n",
       "  <thead>\n",
       "    <tr style=\"text-align: right;\">\n",
       "      <th></th>\n",
       "      <th>ProzessData_ActData_AB1_Temperature_DR1_MassMixingStage</th>\n",
       "    </tr>\n",
       "  </thead>\n",
       "  <tbody>\n",
       "    <tr>\n",
       "      <th>2023-03-16 01:00:00+00:00</th>\n",
       "      <td>41.5</td>\n",
       "    </tr>\n",
       "    <tr>\n",
       "      <th>2023-03-16 01:00:01+00:00</th>\n",
       "      <td>41.5</td>\n",
       "    </tr>\n",
       "    <tr>\n",
       "      <th>2023-03-16 01:00:02+00:00</th>\n",
       "      <td>41.5</td>\n",
       "    </tr>\n",
       "    <tr>\n",
       "      <th>2023-03-16 01:00:03+00:00</th>\n",
       "      <td>41.5</td>\n",
       "    </tr>\n",
       "    <tr>\n",
       "      <th>2023-03-16 01:00:04+00:00</th>\n",
       "      <td>41.5</td>\n",
       "    </tr>\n",
       "    <tr>\n",
       "      <th>...</th>\n",
       "      <td>...</td>\n",
       "    </tr>\n",
       "    <tr>\n",
       "      <th>2023-04-11 19:59:56+00:00</th>\n",
       "      <td>41.5</td>\n",
       "    </tr>\n",
       "    <tr>\n",
       "      <th>2023-04-11 19:59:57+00:00</th>\n",
       "      <td>41.5</td>\n",
       "    </tr>\n",
       "    <tr>\n",
       "      <th>2023-04-11 19:59:58+00:00</th>\n",
       "      <td>41.5</td>\n",
       "    </tr>\n",
       "    <tr>\n",
       "      <th>2023-04-11 19:59:59+00:00</th>\n",
       "      <td>41.5</td>\n",
       "    </tr>\n",
       "    <tr>\n",
       "      <th>2023-04-11 20:00:00+00:00</th>\n",
       "      <td>41.5</td>\n",
       "    </tr>\n",
       "  </tbody>\n",
       "</table>\n",
       "<p>940513 rows × 1 columns</p>\n",
       "</div>"
      ],
      "text/plain": [
       "                           ProzessData_ActData_AB1_Temperature_DR1_MassMixingStage\n",
       "2023-03-16 01:00:00+00:00                                               41.5      \n",
       "2023-03-16 01:00:01+00:00                                               41.5      \n",
       "2023-03-16 01:00:02+00:00                                               41.5      \n",
       "2023-03-16 01:00:03+00:00                                               41.5      \n",
       "2023-03-16 01:00:04+00:00                                               41.5      \n",
       "...                                                                      ...      \n",
       "2023-04-11 19:59:56+00:00                                               41.5      \n",
       "2023-04-11 19:59:57+00:00                                               41.5      \n",
       "2023-04-11 19:59:58+00:00                                               41.5      \n",
       "2023-04-11 19:59:59+00:00                                               41.5      \n",
       "2023-04-11 20:00:00+00:00                                               41.5      \n",
       "\n",
       "[940513 rows x 1 columns]"
      ]
     },
     "execution_count": 5,
     "metadata": {},
     "output_type": "execute_result"
    }
   ],
   "source": [
    "train_y"
   ]
  },
  {
   "cell_type": "code",
   "execution_count": null,
   "metadata": {},
   "outputs": [],
   "source": [
    "def add_time_features(df):\n",
    "    df['hour'] = df.index.hour\n",
    "    df['minute'] = df.index.minute\n",
    "    daytime_arr = []\n",
    "    for idx in df.index:\n",
    "        if df.loc[idx, \"hour\"] >= 6 and df.loc[idx, \"hour\"] <= 18:\n",
    "            daytime_arr.append(1)\n",
    "        else:\n",
    "            daytime_arr.append(0)\n",
    "\n",
    "    df['day_time'] = daytime_arr\n",
    "    df['night_time'] = 1 - df['day_time']\n",
    "    return df"
   ]
  },
  {
   "cell_type": "code",
   "execution_count": null,
   "metadata": {},
   "outputs": [],
   "source": [
    "train_x.index = pd.to_datetime(train_x.index)\n",
    "train_y.index = pd.to_datetime(train_y.index)"
   ]
  },
  {
   "cell_type": "code",
   "execution_count": null,
   "metadata": {},
   "outputs": [
    {
     "data": {
      "text/plain": [
       "2023-03-16 01:00:00+00:00    0\n",
       "2023-03-16 01:00:01+00:00    0\n",
       "2023-03-16 01:00:02+00:00    0\n",
       "2023-03-16 01:00:03+00:00    0\n",
       "2023-03-16 01:00:04+00:00    0\n",
       "                            ..\n",
       "2023-04-11 19:59:56+00:00    0\n",
       "2023-04-11 19:59:57+00:00    0\n",
       "2023-04-11 19:59:58+00:00    0\n",
       "2023-04-11 19:59:59+00:00    0\n",
       "2023-04-11 20:00:00+00:00    0\n",
       "Name: day_time, Length: 940513, dtype: int64"
      ]
     },
     "execution_count": 31,
     "metadata": {},
     "output_type": "execute_result"
    }
   ],
   "source": [
    "train_x.day_time"
   ]
  },
  {
   "cell_type": "code",
   "execution_count": null,
   "metadata": {},
   "outputs": [],
   "source": [
    "train_x = add_time_features(train_x)\n",
    "train_y = add_time_features(train_y)"
   ]
  },
  {
   "cell_type": "code",
   "execution_count": null,
   "metadata": {},
   "outputs": [],
   "source": [
    "train_x_day = train_x[train_x.day_time == 1]"
   ]
  },
  {
   "cell_type": "code",
   "execution_count": null,
   "metadata": {},
   "outputs": [],
   "source": [
    "train_y_day = train_x[train_x.day_time == 1]"
   ]
  },
  {
   "cell_type": "code",
   "execution_count": null,
   "metadata": {},
   "outputs": [],
   "source": [
    "train_x_day = train_x_day.drop(columns=[\"day_time\", \"night_time\"])\n",
    "train_y_day = train_y_day.drop(columns=[\"day_time\", \"night_time\"])"
   ]
  },
  {
   "cell_type": "code",
   "execution_count": null,
   "metadata": {},
   "outputs": [],
   "source": [
    "scaler = StandardScaler()\n",
    "standardized_train = scaler.fit_transform(train_y_day)\n",
    "scaled_df = pd.DataFrame(standardized_train, columns=train_x.columns)\n",
    "scaled_df = scaled_df.drop(columns=[\"hour\", \"minute\"])"
   ]
  },
  {
   "cell_type": "code",
   "execution_count": null,
   "metadata": {},
   "outputs": [],
   "source": [
    "pca = PCA(n_components=len(scaled_df.columns))  # You can specify the number of components you want\n",
    "X_pca = pca.fit_transform(scaled_df)\n"
   ]
  },
  {
   "cell_type": "code",
   "execution_count": null,
   "metadata": {},
   "outputs": [],
   "source": [
    "model = SVR(kernel=\"rbf\")"
   ]
  },
  {
   "cell_type": "code",
   "execution_count": null,
   "metadata": {},
   "outputs": [
    {
     "data": {
      "text/plain": [
       "SVR()"
      ]
     },
     "execution_count": 12,
     "metadata": {},
     "output_type": "execute_result"
    }
   ],
   "source": [
    "model.fit(train_x_day[:500000], train_y_day.iloc[:,0][:500000])"
   ]
  },
  {
   "cell_type": "code",
   "execution_count": null,
   "metadata": {},
   "outputs": [],
   "source": [
    "y_pred = model.predict(train_x_day[500000:510000])"
   ]
  },
  {
   "cell_type": "code",
   "execution_count": null,
   "metadata": {},
   "outputs": [
    {
     "data": {
      "text/plain": [
       "0.09512403624058288"
      ]
     },
     "execution_count": 18,
     "metadata": {},
     "output_type": "execute_result"
    }
   ],
   "source": [
    "mean_absolute_error(train_y_day[500000:510000], y_pred)"
   ]
  }
 ],
 "metadata": {
  "kernelspec": {
   "display_name": "base",
   "language": "python",
   "name": "python3"
  },
  "language_info": {
   "codemirror_mode": {
    "name": "ipython",
    "version": 3
   },
   "file_extension": ".py",
   "mimetype": "text/x-python",
   "name": "python",
   "nbconvert_exporter": "python",
   "pygments_lexer": "ipython3",
   "version": "3.9.12"
  }
 },
 "nbformat": 4,
 "nbformat_minor": 2
}
