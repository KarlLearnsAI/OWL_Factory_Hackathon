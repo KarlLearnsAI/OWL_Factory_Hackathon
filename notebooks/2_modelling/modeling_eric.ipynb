{
 "cells": [
  {
   "cell_type": "code",
   "execution_count": 22,
   "metadata": {},
   "outputs": [],
   "source": [
    "import numpy as np\n",
    "import pandas as pd\n",
    "import matplotlib.pyplot as plt\n",
    "import seaborn as sns\n",
    "from datetime import datetime\n",
    "from sklearn.manifold import MDS\n",
    "from sklearn.metrics import mean_absolute_error, mean_squared_error\n",
    "from sklearn.model_selection import train_test_split\n",
    "from sklearn.preprocessing import StandardScaler\n",
    "from sklearn.decomposition import PCA\n",
    "from sklearn.model_selection import cross_val_score, KFold\n",
    "from sklearn.linear_model import LogisticRegression\n",
    "from sklearn.svm import SVR\n",
    "import os "
   ]
  },
  {
   "cell_type": "code",
   "execution_count": 23,
   "metadata": {},
   "outputs": [],
   "source": [
    "example_y = pd.read_parquet(r\"C:\\Users\\ethor\\Desktop\\hackathon\\OWL_Factory_Hackathon\\submissions\\test_dir_y\\2023_03_16_target.pq\")"
   ]
  },
  {
   "cell_type": "code",
   "execution_count": 24,
   "metadata": {},
   "outputs": [
    {
     "data": {
      "text/html": [
       "<div>\n",
       "<style scoped>\n",
       "    .dataframe tbody tr th:only-of-type {\n",
       "        vertical-align: middle;\n",
       "    }\n",
       "\n",
       "    .dataframe tbody tr th {\n",
       "        vertical-align: top;\n",
       "    }\n",
       "\n",
       "    .dataframe thead th {\n",
       "        text-align: right;\n",
       "    }\n",
       "</style>\n",
       "<table border=\"1\" class=\"dataframe\">\n",
       "  <thead>\n",
       "    <tr style=\"text-align: right;\">\n",
       "      <th></th>\n",
       "      <th>ProzessData_ActData_AB1_Temperature_DR1_MassMixingStage</th>\n",
       "    </tr>\n",
       "  </thead>\n",
       "  <tbody>\n",
       "    <tr>\n",
       "      <th>2023-03-16 01:00:00+00:00</th>\n",
       "      <td>41.5</td>\n",
       "    </tr>\n",
       "    <tr>\n",
       "      <th>2023-03-16 01:00:01+00:00</th>\n",
       "      <td>41.5</td>\n",
       "    </tr>\n",
       "    <tr>\n",
       "      <th>2023-03-16 01:00:02+00:00</th>\n",
       "      <td>41.5</td>\n",
       "    </tr>\n",
       "    <tr>\n",
       "      <th>2023-03-16 01:00:03+00:00</th>\n",
       "      <td>41.5</td>\n",
       "    </tr>\n",
       "    <tr>\n",
       "      <th>2023-03-16 01:00:04+00:00</th>\n",
       "      <td>41.5</td>\n",
       "    </tr>\n",
       "  </tbody>\n",
       "</table>\n",
       "</div>"
      ],
      "text/plain": [
       "                           ProzessData_ActData_AB1_Temperature_DR1_MassMixingStage\n",
       "2023-03-16 01:00:00+00:00                                               41.5      \n",
       "2023-03-16 01:00:01+00:00                                               41.5      \n",
       "2023-03-16 01:00:02+00:00                                               41.5      \n",
       "2023-03-16 01:00:03+00:00                                               41.5      \n",
       "2023-03-16 01:00:04+00:00                                               41.5      "
      ]
     },
     "execution_count": 24,
     "metadata": {},
     "output_type": "execute_result"
    }
   ],
   "source": [
    "example_y.head()"
   ]
  },
  {
   "cell_type": "code",
   "execution_count": 25,
   "metadata": {},
   "outputs": [
    {
     "name": "stderr",
     "output_type": "stream",
     "text": [
      "c:\\Anaconda3\\lib\\site-packages\\sklearn\\base.py:329: UserWarning: Trying to unpickle estimator LinearRegression from version 1.3.2 when using version 1.0.2. This might lead to breaking code or invalid results. Use at your own risk. For more info please refer to:\n",
      "https://scikit-learn.org/stable/modules/model_persistence.html#security-maintainability-limitations\n",
      "  warnings.warn(\n"
     ]
    }
   ],
   "source": [
    "from pathlib import Path\n",
    "import numpy as np\n",
    "import pickle\n",
    "import pandas as pd \n",
    "import os \n",
    "\n",
    "\n",
    "\n",
    "def add_time_features(df):\n",
    "    df['hour'] = df.index.hour\n",
    "    df['minute'] = df.index.minute\n",
    "    daytime_arr = []\n",
    "    for idx in df.index:\n",
    "        if df.loc[idx, \"hour\"] >= 6 and df.loc[idx, \"hour\"] <= 18:\n",
    "            daytime_arr.append(1)\n",
    "        else:\n",
    "            daytime_arr.append(0)\n",
    "\n",
    "    df['day_time'] = daytime_arr\n",
    "    df['night_time'] = 1 - df['day_time']\n",
    "    return df\n",
    "\n",
    "\n",
    "\n",
    "dirpath = Path(r\"C:\\Users\\ethor\\Desktop\\hackathon\\OWL_Factory_Hackathon\\submissions\\test_dir_x\")\n",
    "PATH_TO_DAY_MODEL = Path(r\"C:\\Users\\ethor\\Desktop\\hackathon\\OWL_Factory_Hackathon\\submissions\\Models\\linreg.pkl\")\n",
    "PATH_TO_NIGHT_MODEL = Path(r\"C:\\Users\\ethor\\Desktop\\hackathon\\OWL_Factory_Hackathon\\submissions\\Models\\linreg_2.pkl\")\n",
    "\n",
    "\n",
    "# with open(PATH_TO_DAY_MODEL, 'rb') as file:\n",
    "#     day_model = pickle.load(file)\n",
    "\n",
    "# with open(PATH_TO_NIGHT_MODEL, 'rb') as file:\n",
    "#     night_model = pickle.load(file)\n",
    "    \n",
    "    \n",
    "first = True\n",
    "for filename in os.listdir(dirpath):\n",
    "    ret_dict = {}\n",
    "    filepath = os.path.join(dirpath, filename)\n",
    "    data = pd.read_parquet(filepath)\n",
    "\n",
    "    data = add_time_features(data)\n",
    "    data.index = pd.to_datetime(data.index)\n",
    "\n",
    "    day_data = data[data.day_time == 1]\n",
    "    night_data = data[data.day_time == 0]\n",
    "    \n",
    "    cumul_index = list(day_data.index) + list(night_data.index)\n",
    "\n",
    "\n",
    "        \n",
    "\n",
    "    day_preds= day_model.predict(day_data)\n",
    "    night_preds = night_model.predict(night_data)\n",
    "    ret_df = pd.DataFrame({\"ret_data\": list(day_preds) + list(night_preds)}, index=cumul_index)\n",
    "    ret_df = ret_df.sort_index()\n",
    "\n",
    "\n",
    "\n",
    "\n",
    "    ret_df.to_parquet(fr\"C:\\Users\\ethor\\Desktop\\hackathon\\OWL_Factory_Hackathon\\submissions\\test_dir_res\\{filename}-pred.pq\")"
   ]
  },
  {
   "cell_type": "code",
   "execution_count": 26,
   "metadata": {},
   "outputs": [
    {
     "name": "stdout",
     "output_type": "stream",
     "text": [
      "68401\n",
      "68401\n",
      "68401\n",
      "68401\n",
      "68401\n"
     ]
    }
   ],
   "source": [
    "first = True\n",
    "dirr_path = Path(r\"C:\\Users\\ethor\\Desktop\\hackathon\\OWL_Factory_Hackathon\\submissions\\test_dir_y\")\n",
    "for filepath in os.listdir(dirr_path):\n",
    "    full_path = os.path.join(dirr_path, filepath)\n",
    "    temp_df = pd.read_parquet(full_path)\n",
    "    print(len(temp_df))\n",
    "    if first:\n",
    "        whole_df_true = temp_df\n",
    "        first = False\n",
    "        continue\n",
    "    whole_df_true = pd.concat([whole_df_true, temp_df], axis=0)"
   ]
  },
  {
   "cell_type": "code",
   "execution_count": 27,
   "metadata": {},
   "outputs": [
    {
     "name": "stdout",
     "output_type": "stream",
     "text": [
      "68401\n",
      "68401\n",
      "68401\n",
      "68401\n",
      "68401\n"
     ]
    }
   ],
   "source": [
    "first = True\n",
    "dirr_path = Path(r\"C:\\Users\\ethor\\Desktop\\hackathon\\OWL_Factory_Hackathon\\submissions\\test_dir_res\")\n",
    "for filepath in os.listdir(dirr_path):\n",
    "    full_path = os.path.join(dirr_path, filepath)\n",
    "    temp_df = pd.read_parquet(full_path)\n",
    "    print(len(temp_df))\n",
    "    if first:\n",
    "        whole_df_preds = temp_df\n",
    "        first = False\n",
    "        continue\n",
    "    whole_df_preds = pd.concat([whole_df_preds, temp_df], axis=0)"
   ]
  },
  {
   "cell_type": "code",
   "execution_count": 29,
   "metadata": {},
   "outputs": [
    {
     "data": {
      "text/plain": [
       "True"
      ]
     },
     "execution_count": 29,
     "metadata": {},
     "output_type": "execute_result"
    }
   ],
   "source": [
    "len(whole_df_true) == len(whole_df_preds)"
   ]
  },
  {
   "cell_type": "code",
   "execution_count": 31,
   "metadata": {},
   "outputs": [
    {
     "data": {
      "text/plain": [
       "2023-03-16 01:00:00+00:00    41.5\n",
       "2023-03-16 01:00:01+00:00    41.5\n",
       "2023-03-16 01:00:02+00:00    41.5\n",
       "2023-03-16 01:00:03+00:00    41.5\n",
       "2023-03-16 01:00:04+00:00    41.5\n",
       "                             ... \n",
       "2023-04-13 19:59:56+00:00    41.5\n",
       "2023-04-13 19:59:57+00:00    41.5\n",
       "2023-04-13 19:59:58+00:00    41.5\n",
       "2023-04-13 19:59:59+00:00    41.5\n",
       "2023-04-13 20:00:00+00:00    41.5\n",
       "Name: ProzessData_ActData_AB1_Temperature_DR1_MassMixingStage, Length: 342005, dtype: float64"
      ]
     },
     "execution_count": 31,
     "metadata": {},
     "output_type": "execute_result"
    }
   ],
   "source": [
    "whole_df_true.iloc[:, 0]"
   ]
  },
  {
   "cell_type": "code",
   "execution_count": 33,
   "metadata": {},
   "outputs": [
    {
     "data": {
      "text/plain": [
       "0.10424721724899556"
      ]
     },
     "execution_count": 33,
     "metadata": {},
     "output_type": "execute_result"
    }
   ],
   "source": [
    "mae = mean_absolute_error(whole_df_true.iloc[:, 0], whole_df_preds.iloc[:, 0])\n",
    "mae"
   ]
  },
  {
   "cell_type": "code",
   "execution_count": 16,
   "metadata": {},
   "outputs": [
    {
     "data": {
      "text/plain": [
       "342005"
      ]
     },
     "execution_count": 16,
     "metadata": {},
     "output_type": "execute_result"
    }
   ],
   "source": [
    "len(whole_df)"
   ]
  },
  {
   "cell_type": "code",
   "execution_count": 15,
   "metadata": {},
   "outputs": [
    {
     "data": {
      "text/plain": [
       "68401"
      ]
     },
     "execution_count": 15,
     "metadata": {},
     "output_type": "execute_result"
    }
   ],
   "source": [
    "len(ret_df)"
   ]
  },
  {
   "cell_type": "code",
   "execution_count": null,
   "metadata": {},
   "outputs": [
    {
     "data": {
      "text/plain": [
       "array([[34.29969937],\n",
       "       [34.37228242],\n",
       "       [34.38220385],\n",
       "       ...,\n",
       "       [41.49908496],\n",
       "       [41.50107374],\n",
       "       [41.49908496]])"
      ]
     },
     "execution_count": 25,
     "metadata": {},
     "output_type": "execute_result"
    }
   ],
   "source": [
    "day_preds"
   ]
  },
  {
   "cell_type": "code",
   "execution_count": null,
   "metadata": {},
   "outputs": [],
   "source": [
    "train_x = pd.read_csv(r\"C:\\Users\\ethor\\Desktop\\hackathon\\OWL_Factory_Hackathon\\data\\train_x.csv\", index_col=0)"
   ]
  },
  {
   "cell_type": "code",
   "execution_count": null,
   "metadata": {},
   "outputs": [],
   "source": [
    "train_y = pd.read_csv(r\"C:\\Users\\ethor\\Desktop\\hackathon\\OWL_Factory_Hackathon\\data\\train_y.csv\", index_col=0)"
   ]
  },
  {
   "cell_type": "code",
   "execution_count": null,
   "metadata": {},
   "outputs": [],
   "source": [
    "train_x[:1000].to_csv(\"train_x.csv\")\n",
    "train_y[:1000].to_csv(\"train_y.csv\")"
   ]
  },
  {
   "cell_type": "code",
   "execution_count": null,
   "metadata": {},
   "outputs": [],
   "source": [
    "train_y.index = pd.to_datetime(train_y.index)"
   ]
  },
  {
   "cell_type": "code",
   "execution_count": null,
   "metadata": {},
   "outputs": [],
   "source": [
    "def add_time_features(df):\n",
    "    df['hour'] = df.index.hour\n",
    "    df['minute'] = df.index.minute\n",
    "    daytime_arr = []\n",
    "    for idx in df.index:\n",
    "        if df.loc[idx, \"hour\"] >= 6 and df.loc[idx, \"hour\"] <= 18:\n",
    "            daytime_arr.append(1)\n",
    "        else:\n",
    "            daytime_arr.append(0)\n",
    "\n",
    "    df['day_time'] = daytime_arr\n",
    "    df['night_time'] = 1 - df['day_time']\n",
    "    return df"
   ]
  },
  {
   "cell_type": "code",
   "execution_count": null,
   "metadata": {},
   "outputs": [],
   "source": [
    "train_x.index = pd.to_datetime(train_x.index)\n",
    "train_y.index = pd.to_datetime(train_y.index)"
   ]
  },
  {
   "cell_type": "code",
   "execution_count": null,
   "metadata": {},
   "outputs": [],
   "source": [
    "train_x = add_time_features(train_x)\n",
    "train_y = add_time_features(train_y)"
   ]
  },
  {
   "cell_type": "code",
   "execution_count": null,
   "metadata": {},
   "outputs": [],
   "source": [
    "train_x_day = train_x[train_x.day_time == 1]"
   ]
  },
  {
   "cell_type": "code",
   "execution_count": null,
   "metadata": {},
   "outputs": [],
   "source": [
    "train_y_day = train_y[train_x.day_time == 1]"
   ]
  },
  {
   "cell_type": "code",
   "execution_count": null,
   "metadata": {},
   "outputs": [],
   "source": [
    "train_x_day = train_x_day.drop(columns=[\"day_time\", \"night_time\"])\n",
    "train_y_day = train_y_day.drop(columns=[\"day_time\", \"night_time\"])"
   ]
  },
  {
   "cell_type": "code",
   "execution_count": null,
   "metadata": {},
   "outputs": [],
   "source": [
    "scaler = StandardScaler()\n",
    "standardized_train = scaler.fit_transform(train_x_day)\n",
    "scaled_df = pd.DataFrame(standardized_train, columns=train_x_day.columns)\n",
    "scaled_df = scaled_df.drop(columns=[\"hour\", \"minute\"])"
   ]
  },
  {
   "cell_type": "code",
   "execution_count": null,
   "metadata": {},
   "outputs": [],
   "source": [
    "pca = PCA(n_components=len(scaled_df.columns))  # You can specify the number of components you want\n",
    "X_pca = pca.fit_transform(scaled_df)\n"
   ]
  },
  {
   "cell_type": "code",
   "execution_count": null,
   "metadata": {},
   "outputs": [],
   "source": [
    "model = SVR(kernel=\"rbf\")"
   ]
  },
  {
   "cell_type": "code",
   "execution_count": null,
   "metadata": {},
   "outputs": [],
   "source": [
    "model.fit(train_x_day[:500000], train_y_day.iloc[:,0][:500000])"
   ]
  },
  {
   "cell_type": "code",
   "execution_count": null,
   "metadata": {},
   "outputs": [],
   "source": [
    "y_pred = model.predict(train_x_day[500000:510000])"
   ]
  },
  {
   "cell_type": "code",
   "execution_count": null,
   "metadata": {},
   "outputs": [
    {
     "data": {
      "text/plain": [
       "0.09512403624058288"
      ]
     },
     "execution_count": 18,
     "metadata": {},
     "output_type": "execute_result"
    }
   ],
   "source": [
    "mean_absolute_error(train_y_day[500000:510000], y_pred)"
   ]
  },
  {
   "cell_type": "code",
   "execution_count": null,
   "metadata": {},
   "outputs": [],
   "source": []
  }
 ],
 "metadata": {
  "kernelspec": {
   "display_name": "base",
   "language": "python",
   "name": "python3"
  },
  "language_info": {
   "codemirror_mode": {
    "name": "ipython",
    "version": 3
   },
   "file_extension": ".py",
   "mimetype": "text/x-python",
   "name": "python",
   "nbconvert_exporter": "python",
   "pygments_lexer": "ipython3",
   "version": "3.9.12"
  }
 },
 "nbformat": 4,
 "nbformat_minor": 2
}
