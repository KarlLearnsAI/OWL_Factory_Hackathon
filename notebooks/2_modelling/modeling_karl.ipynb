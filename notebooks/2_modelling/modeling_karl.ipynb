{
 "cells": [
  {
   "cell_type": "markdown",
   "metadata": {},
   "source": [
    "# Modelling"
   ]
  },
  {
   "cell_type": "markdown",
   "metadata": {},
   "source": [
    "## Imports"
   ]
  },
  {
   "cell_type": "code",
   "execution_count": 102,
   "metadata": {},
   "outputs": [],
   "source": [
    "import pandas as pd\n",
    "import numpy as np\n",
    "import matplotlib.pyplot as plt\n",
    "from sklearn.metrics import mean_absolute_error, mean_squared_error\n",
    "from sklearn.model_selection import train_test_split\n",
    "from sklearn.preprocessing import StandardScaler\n",
    "from sklearn.decomposition import PCA\n",
    "import pickle"
   ]
  },
  {
   "cell_type": "markdown",
   "metadata": {},
   "source": [
    "# Load Data"
   ]
  },
  {
   "cell_type": "code",
   "execution_count": 103,
   "metadata": {},
   "outputs": [
    {
     "name": "stdout",
     "output_type": "stream",
     "text": [
      "X1 Train Shapes [(478807, 18) / (478807, 1)]\n",
      "X1 Test Shapes [(273604, 18) / (273604, 1)]\n",
      "X2 Train Shapes [(478807, 18) / (478807, 1)]\n",
      "X2 Test Shapes [(273604, 18) / (273604, 1)]\n",
      "Index(['ProzessData_ActData_AB1_Analogs_DX1_MassPressure',\n",
      "       'ProzessData_ActData_AB1_Analogs_GY1_MassLevelTank',\n",
      "       'ProzessData_ActData_AB1_Current_DV1_Scraper',\n",
      "       'ProzessData_ActData_AB1_Current_DW1_RiserPumpFwd',\n",
      "       'ProzessData_ActData_AB1_Speed_DV1_Scraper',\n",
      "       'ProzessData_ActData_AB1_Speed_DW1_RiserPumpFwd',\n",
      "       'ProzessData_ActData_AB1_Temperature_DP1_MassHeatingStage',\n",
      "       'ProzessData_ActData_AB1_Temperature_DP1_WaterHeatingStage',\n",
      "       'ProzessData_ActData_AB1_Temperature_DQ1_MassCoolingStage',\n",
      "       'ProzessData_ActData_AB1_Temperature_DQ1_WaterCoolingStage',\n",
      "       'ProzessData_ActData_AB1_Temperature_DR1_WaterMixingStage',\n",
      "       'ProzessData_ActData_AB1_Temperature_DS1_WaterPipe',\n",
      "       'ProzessData_ActData_AB1_Temperature_DU1_WaterTank',\n",
      "       'ProzessData_ActData_AB1_Temperature_DX1_MassInfeed', 'hour', 'minute',\n",
      "       'day_time', 'night_time'],\n",
      "      dtype='object')\n"
     ]
    },
    {
     "data": {
      "text/html": [
       "<div>\n",
       "<style scoped>\n",
       "    .dataframe tbody tr th:only-of-type {\n",
       "        vertical-align: middle;\n",
       "    }\n",
       "\n",
       "    .dataframe tbody tr th {\n",
       "        vertical-align: top;\n",
       "    }\n",
       "\n",
       "    .dataframe thead th {\n",
       "        text-align: right;\n",
       "    }\n",
       "</style>\n",
       "<table border=\"1\" class=\"dataframe\">\n",
       "  <thead>\n",
       "    <tr style=\"text-align: right;\">\n",
       "      <th></th>\n",
       "      <th>ProzessData_ActData_AB1_Analogs_DX1_MassPressure</th>\n",
       "      <th>ProzessData_ActData_AB1_Analogs_GY1_MassLevelTank</th>\n",
       "      <th>ProzessData_ActData_AB1_Current_DV1_Scraper</th>\n",
       "      <th>ProzessData_ActData_AB1_Current_DW1_RiserPumpFwd</th>\n",
       "      <th>ProzessData_ActData_AB1_Speed_DV1_Scraper</th>\n",
       "      <th>ProzessData_ActData_AB1_Speed_DW1_RiserPumpFwd</th>\n",
       "      <th>ProzessData_ActData_AB1_Temperature_DP1_MassHeatingStage</th>\n",
       "      <th>ProzessData_ActData_AB1_Temperature_DP1_WaterHeatingStage</th>\n",
       "      <th>ProzessData_ActData_AB1_Temperature_DQ1_MassCoolingStage</th>\n",
       "      <th>ProzessData_ActData_AB1_Temperature_DQ1_WaterCoolingStage</th>\n",
       "      <th>ProzessData_ActData_AB1_Temperature_DR1_WaterMixingStage</th>\n",
       "      <th>ProzessData_ActData_AB1_Temperature_DS1_WaterPipe</th>\n",
       "      <th>ProzessData_ActData_AB1_Temperature_DU1_WaterTank</th>\n",
       "      <th>ProzessData_ActData_AB1_Temperature_DX1_MassInfeed</th>\n",
       "      <th>hour</th>\n",
       "      <th>minute</th>\n",
       "      <th>day_time</th>\n",
       "      <th>night_time</th>\n",
       "    </tr>\n",
       "  </thead>\n",
       "  <tbody>\n",
       "    <tr>\n",
       "      <th>2023-03-16 01:00:00+00:00</th>\n",
       "      <td>0.74</td>\n",
       "      <td>64.07</td>\n",
       "      <td>0.0</td>\n",
       "      <td>0.0</td>\n",
       "      <td>0.0</td>\n",
       "      <td>0.0</td>\n",
       "      <td>41.299999</td>\n",
       "      <td>42.000000</td>\n",
       "      <td>41.599998</td>\n",
       "      <td>42.0</td>\n",
       "      <td>42.0</td>\n",
       "      <td>41.849998</td>\n",
       "      <td>42.000000</td>\n",
       "      <td>41.900002</td>\n",
       "      <td>1</td>\n",
       "      <td>0</td>\n",
       "      <td>0</td>\n",
       "      <td>1</td>\n",
       "    </tr>\n",
       "    <tr>\n",
       "      <th>2023-03-16 01:00:01+00:00</th>\n",
       "      <td>0.75</td>\n",
       "      <td>64.07</td>\n",
       "      <td>0.0</td>\n",
       "      <td>0.0</td>\n",
       "      <td>0.0</td>\n",
       "      <td>0.0</td>\n",
       "      <td>41.299999</td>\n",
       "      <td>42.099998</td>\n",
       "      <td>41.599998</td>\n",
       "      <td>42.0</td>\n",
       "      <td>42.0</td>\n",
       "      <td>41.849998</td>\n",
       "      <td>41.900002</td>\n",
       "      <td>41.900002</td>\n",
       "      <td>1</td>\n",
       "      <td>0</td>\n",
       "      <td>0</td>\n",
       "      <td>1</td>\n",
       "    </tr>\n",
       "    <tr>\n",
       "      <th>2023-03-16 01:00:02+00:00</th>\n",
       "      <td>0.74</td>\n",
       "      <td>64.07</td>\n",
       "      <td>0.0</td>\n",
       "      <td>0.0</td>\n",
       "      <td>0.0</td>\n",
       "      <td>0.0</td>\n",
       "      <td>41.299999</td>\n",
       "      <td>42.099998</td>\n",
       "      <td>41.599998</td>\n",
       "      <td>42.0</td>\n",
       "      <td>42.0</td>\n",
       "      <td>41.849998</td>\n",
       "      <td>41.900002</td>\n",
       "      <td>41.900002</td>\n",
       "      <td>1</td>\n",
       "      <td>0</td>\n",
       "      <td>0</td>\n",
       "      <td>1</td>\n",
       "    </tr>\n",
       "    <tr>\n",
       "      <th>2023-03-16 01:00:03+00:00</th>\n",
       "      <td>0.75</td>\n",
       "      <td>64.07</td>\n",
       "      <td>0.0</td>\n",
       "      <td>0.0</td>\n",
       "      <td>0.0</td>\n",
       "      <td>0.0</td>\n",
       "      <td>41.299999</td>\n",
       "      <td>42.099998</td>\n",
       "      <td>41.599998</td>\n",
       "      <td>42.0</td>\n",
       "      <td>42.0</td>\n",
       "      <td>41.849998</td>\n",
       "      <td>41.900002</td>\n",
       "      <td>41.900002</td>\n",
       "      <td>1</td>\n",
       "      <td>0</td>\n",
       "      <td>0</td>\n",
       "      <td>1</td>\n",
       "    </tr>\n",
       "    <tr>\n",
       "      <th>2023-03-16 01:00:04+00:00</th>\n",
       "      <td>0.75</td>\n",
       "      <td>64.07</td>\n",
       "      <td>0.0</td>\n",
       "      <td>0.0</td>\n",
       "      <td>0.0</td>\n",
       "      <td>0.0</td>\n",
       "      <td>41.299999</td>\n",
       "      <td>42.099998</td>\n",
       "      <td>41.599998</td>\n",
       "      <td>42.0</td>\n",
       "      <td>42.0</td>\n",
       "      <td>41.849998</td>\n",
       "      <td>41.900002</td>\n",
       "      <td>41.900002</td>\n",
       "      <td>1</td>\n",
       "      <td>0</td>\n",
       "      <td>0</td>\n",
       "      <td>1</td>\n",
       "    </tr>\n",
       "  </tbody>\n",
       "</table>\n",
       "</div>"
      ],
      "text/plain": [
       "                           ProzessData_ActData_AB1_Analogs_DX1_MassPressure  \\\n",
       "2023-03-16 01:00:00+00:00                                              0.74   \n",
       "2023-03-16 01:00:01+00:00                                              0.75   \n",
       "2023-03-16 01:00:02+00:00                                              0.74   \n",
       "2023-03-16 01:00:03+00:00                                              0.75   \n",
       "2023-03-16 01:00:04+00:00                                              0.75   \n",
       "\n",
       "                           ProzessData_ActData_AB1_Analogs_GY1_MassLevelTank  \\\n",
       "2023-03-16 01:00:00+00:00                                              64.07   \n",
       "2023-03-16 01:00:01+00:00                                              64.07   \n",
       "2023-03-16 01:00:02+00:00                                              64.07   \n",
       "2023-03-16 01:00:03+00:00                                              64.07   \n",
       "2023-03-16 01:00:04+00:00                                              64.07   \n",
       "\n",
       "                           ProzessData_ActData_AB1_Current_DV1_Scraper  \\\n",
       "2023-03-16 01:00:00+00:00                                          0.0   \n",
       "2023-03-16 01:00:01+00:00                                          0.0   \n",
       "2023-03-16 01:00:02+00:00                                          0.0   \n",
       "2023-03-16 01:00:03+00:00                                          0.0   \n",
       "2023-03-16 01:00:04+00:00                                          0.0   \n",
       "\n",
       "                           ProzessData_ActData_AB1_Current_DW1_RiserPumpFwd  \\\n",
       "2023-03-16 01:00:00+00:00                                               0.0   \n",
       "2023-03-16 01:00:01+00:00                                               0.0   \n",
       "2023-03-16 01:00:02+00:00                                               0.0   \n",
       "2023-03-16 01:00:03+00:00                                               0.0   \n",
       "2023-03-16 01:00:04+00:00                                               0.0   \n",
       "\n",
       "                           ProzessData_ActData_AB1_Speed_DV1_Scraper  \\\n",
       "2023-03-16 01:00:00+00:00                                        0.0   \n",
       "2023-03-16 01:00:01+00:00                                        0.0   \n",
       "2023-03-16 01:00:02+00:00                                        0.0   \n",
       "2023-03-16 01:00:03+00:00                                        0.0   \n",
       "2023-03-16 01:00:04+00:00                                        0.0   \n",
       "\n",
       "                           ProzessData_ActData_AB1_Speed_DW1_RiserPumpFwd  \\\n",
       "2023-03-16 01:00:00+00:00                                             0.0   \n",
       "2023-03-16 01:00:01+00:00                                             0.0   \n",
       "2023-03-16 01:00:02+00:00                                             0.0   \n",
       "2023-03-16 01:00:03+00:00                                             0.0   \n",
       "2023-03-16 01:00:04+00:00                                             0.0   \n",
       "\n",
       "                           ProzessData_ActData_AB1_Temperature_DP1_MassHeatingStage  \\\n",
       "2023-03-16 01:00:00+00:00                                          41.299999          \n",
       "2023-03-16 01:00:01+00:00                                          41.299999          \n",
       "2023-03-16 01:00:02+00:00                                          41.299999          \n",
       "2023-03-16 01:00:03+00:00                                          41.299999          \n",
       "2023-03-16 01:00:04+00:00                                          41.299999          \n",
       "\n",
       "                           ProzessData_ActData_AB1_Temperature_DP1_WaterHeatingStage  \\\n",
       "2023-03-16 01:00:00+00:00                                          42.000000           \n",
       "2023-03-16 01:00:01+00:00                                          42.099998           \n",
       "2023-03-16 01:00:02+00:00                                          42.099998           \n",
       "2023-03-16 01:00:03+00:00                                          42.099998           \n",
       "2023-03-16 01:00:04+00:00                                          42.099998           \n",
       "\n",
       "                           ProzessData_ActData_AB1_Temperature_DQ1_MassCoolingStage  \\\n",
       "2023-03-16 01:00:00+00:00                                          41.599998          \n",
       "2023-03-16 01:00:01+00:00                                          41.599998          \n",
       "2023-03-16 01:00:02+00:00                                          41.599998          \n",
       "2023-03-16 01:00:03+00:00                                          41.599998          \n",
       "2023-03-16 01:00:04+00:00                                          41.599998          \n",
       "\n",
       "                           ProzessData_ActData_AB1_Temperature_DQ1_WaterCoolingStage  \\\n",
       "2023-03-16 01:00:00+00:00                                               42.0           \n",
       "2023-03-16 01:00:01+00:00                                               42.0           \n",
       "2023-03-16 01:00:02+00:00                                               42.0           \n",
       "2023-03-16 01:00:03+00:00                                               42.0           \n",
       "2023-03-16 01:00:04+00:00                                               42.0           \n",
       "\n",
       "                           ProzessData_ActData_AB1_Temperature_DR1_WaterMixingStage  \\\n",
       "2023-03-16 01:00:00+00:00                                               42.0          \n",
       "2023-03-16 01:00:01+00:00                                               42.0          \n",
       "2023-03-16 01:00:02+00:00                                               42.0          \n",
       "2023-03-16 01:00:03+00:00                                               42.0          \n",
       "2023-03-16 01:00:04+00:00                                               42.0          \n",
       "\n",
       "                           ProzessData_ActData_AB1_Temperature_DS1_WaterPipe  \\\n",
       "2023-03-16 01:00:00+00:00                                          41.849998   \n",
       "2023-03-16 01:00:01+00:00                                          41.849998   \n",
       "2023-03-16 01:00:02+00:00                                          41.849998   \n",
       "2023-03-16 01:00:03+00:00                                          41.849998   \n",
       "2023-03-16 01:00:04+00:00                                          41.849998   \n",
       "\n",
       "                           ProzessData_ActData_AB1_Temperature_DU1_WaterTank  \\\n",
       "2023-03-16 01:00:00+00:00                                          42.000000   \n",
       "2023-03-16 01:00:01+00:00                                          41.900002   \n",
       "2023-03-16 01:00:02+00:00                                          41.900002   \n",
       "2023-03-16 01:00:03+00:00                                          41.900002   \n",
       "2023-03-16 01:00:04+00:00                                          41.900002   \n",
       "\n",
       "                           ProzessData_ActData_AB1_Temperature_DX1_MassInfeed  \\\n",
       "2023-03-16 01:00:00+00:00                                          41.900002    \n",
       "2023-03-16 01:00:01+00:00                                          41.900002    \n",
       "2023-03-16 01:00:02+00:00                                          41.900002    \n",
       "2023-03-16 01:00:03+00:00                                          41.900002    \n",
       "2023-03-16 01:00:04+00:00                                          41.900002    \n",
       "\n",
       "                           hour  minute  day_time  night_time  \n",
       "2023-03-16 01:00:00+00:00     1       0         0           1  \n",
       "2023-03-16 01:00:01+00:00     1       0         0           1  \n",
       "2023-03-16 01:00:02+00:00     1       0         0           1  \n",
       "2023-03-16 01:00:03+00:00     1       0         0           1  \n",
       "2023-03-16 01:00:04+00:00     1       0         0           1  "
      ]
     },
     "execution_count": 103,
     "metadata": {},
     "output_type": "execute_result"
    }
   ],
   "source": [
    "X = pd.read_parquet('../../data/preprocessed/full_data.pq')\n",
    "y = pd.read_parquet('../../data/preprocessed/full_data_y.pq')\n",
    "\n",
    "X1_train = pd.read_parquet('../../data/preprocessed/holdout_1.pq')\n",
    "X1_test = pd.read_parquet('../../data/preprocessed/thursdays.pq')\n",
    "y1_train = pd.read_parquet('../../data/preprocessed/holdout_1_y.pq')\n",
    "y1_test = pd.read_parquet('../../data/preprocessed/thursdays_y.pq')\n",
    "\n",
    "X2_train = pd.read_parquet('../../data/preprocessed/holdout_2.pq')\n",
    "X2_test = pd.read_parquet('../../data/preprocessed/tuesdays.pq')\n",
    "y2_train = pd.read_parquet('../../data/preprocessed/holdout_2_y.pq')\n",
    "y2_test = pd.read_parquet('../../data/preprocessed/tuesdays_y.pq')\n",
    "\n",
    "X3_train = pd.read_parquet('../../data/preprocessed/holdout_3.pq')\n",
    "X3_test = pd.read_parquet('../../data/preprocessed/wednesdays.pq')\n",
    "y3_train = pd.read_parquet('../../data/preprocessed/holdout_3_y.pq')\n",
    "y3_test = pd.read_parquet('../../data/preprocessed/wednesdays_y.pq')\n",
    "\n",
    "print(f\"X1 Train Shapes [{X1_train.shape} / {y1_train.shape}]\")\n",
    "print(f\"X1 Test Shapes [{X1_test.shape} / {y1_test.shape}]\")\n",
    "print(f\"X2 Train Shapes [{X2_train.shape} / {y2_train.shape}]\")\n",
    "print(f\"X2 Test Shapes [{X2_test.shape} / {y2_test.shape}]\")\n",
    "print(X1_train.columns)\n",
    "X1_test.head()"
   ]
  },
  {
   "cell_type": "markdown",
   "metadata": {},
   "source": [
    "### Preprocess 2"
   ]
  },
  {
   "cell_type": "code",
   "execution_count": 104,
   "metadata": {},
   "outputs": [],
   "source": [
    "# Data for Day Model\n",
    "X1_train_day = X1_train[X1_train['day_time'] == 1]\n",
    "y1_train_day = y1_train[X1_train['day_time'] == 1]\n",
    "X1_test_day = X1_test[X1_test['day_time'] == 1]\n",
    "y1_test_day = y1_test[X1_test['day_time'] == 1]\n",
    "\n",
    "# Data for Night Model\n",
    "X1_train_night = X1_train[X1_train['day_time'] == 0]\n",
    "y1_train_night = y1_train[X1_train['day_time'] == 0]\n",
    "X1_test_night = X1_train[X1_train['day_time'] == 0]\n",
    "y1_test_night = y1_train[X1_train['day_time'] == 0]"
   ]
  },
  {
   "cell_type": "code",
   "execution_count": 105,
   "metadata": {},
   "outputs": [],
   "source": [
    "X1_train_day = X1_train_day.drop(columns=['day_time', 'night_time'])\n",
    "X1_test_day = X1_test_day.drop(columns=['day_time', 'night_time'])\n",
    "X1_train_night = X1_train_night.drop(columns=['day_time', 'night_time'])\n",
    "X1_test_night = X1_test_night.drop(columns=['day_time', 'night_time'])"
   ]
  },
  {
   "cell_type": "markdown",
   "metadata": {},
   "source": [
    "### Utility Functions"
   ]
  },
  {
   "cell_type": "code",
   "execution_count": 58,
   "metadata": {},
   "outputs": [],
   "source": [
    "def evaluation(X_test, y_test, y_pred, pca=False, examples=True, detailedEval=False):\n",
    "    # Calculate the MAE, MSE and RMSE\n",
    "    mae = mean_absolute_error(y_test, y_pred)\n",
    "    print(f\"MAE: {mae}\")\n",
    "    if detailedEval:\n",
    "        mse = mean_squared_error(y_test, y_pred, squared=True)\n",
    "        rmse = mean_squared_error(y_test, y_pred, squared=False)\n",
    "        print(f\"MSE: {mse}\")\n",
    "        print(f\"RMSE: {rmse}\")\n",
    "\n",
    "    if not pca and examples:\n",
    "        # Print some example predictions\n",
    "        example_indices = [0, 1, 2, 3, 4]\n",
    "        for i in example_indices:\n",
    "            print(f\"{X_test.index[i]}: | Actual y: {y_test.iloc[i, 0]} | Predicted y: {y_pred[i]}\")"
   ]
  },
  {
   "cell_type": "markdown",
   "metadata": {},
   "source": [
    "## Baseline"
   ]
  },
  {
   "cell_type": "markdown",
   "metadata": {},
   "source": [
    "### Linear Regression"
   ]
  },
  {
   "cell_type": "code",
   "execution_count": 106,
   "metadata": {},
   "outputs": [
    {
     "name": "stdout",
     "output_type": "stream",
     "text": [
      "MAE: 0.07448447862126577\n"
     ]
    }
   ],
   "source": [
    "# split with day/night\n",
    "from sklearn.linear_model import LinearRegression\n",
    "\n",
    "# Train a linear regression model\n",
    "model = LinearRegression()\n",
    "model.fit(X1_train_day, y1_train_day)\n",
    "\n",
    "# Make predictions on the testing data\n",
    "y_pred = model.predict(X1_test_day)\n",
    "\n",
    "evaluation(X1_test_day, y1_test_day, y_pred, examples=False)"
   ]
  },
  {
   "cell_type": "code",
   "execution_count": 107,
   "metadata": {},
   "outputs": [
    {
     "name": "stdout",
     "output_type": "stream",
     "text": [
      "MAE: 0.016825388088421715\n"
     ]
    }
   ],
   "source": [
    "# split with day/night\n",
    "from sklearn.linear_model import LinearRegression\n",
    "\n",
    "# Train a linear regression model\n",
    "model = LinearRegression()\n",
    "model.fit(X1_train_night, y1_train_night)\n",
    "\n",
    "# Make predictions on the testing data\n",
    "y_pred = model.predict(X1_test_night)\n",
    "\n",
    "evaluation(X1_test_night, y1_test_night, y_pred, examples=False)"
   ]
  },
  {
   "cell_type": "markdown",
   "metadata": {},
   "source": [
    "## Normal Model"
   ]
  },
  {
   "cell_type": "code",
   "execution_count": 60,
   "metadata": {},
   "outputs": [
    {
     "name": "stdout",
     "output_type": "stream",
     "text": [
      "MAE: 0.1156329028301002\n",
      "MAE: 0.0834787067955579\n",
      "MAE: 0.0581338788267188\n"
     ]
    }
   ],
   "source": [
    "from sklearn.linear_model import LinearRegression\n",
    "\n",
    "# Train a linear regression model\n",
    "model = LinearRegression()\n",
    "model.fit(X1_train_day, y1_train_day)\n",
    "\n",
    "# Make predictions on the testing data\n",
    "y_pred = model.predict(X1_test_day)\n",
    "\n",
    "evaluation(X1_test_day, y1_test_day, y_pred, examples=False)\n",
    "\n",
    "model = LinearRegression()\n",
    "model.fit(X2_train, y2_train)\n",
    "y2_pred = model.predict(X2_test)\n",
    "evaluation(X2_test, y2_test, y2_pred, examples=False)\n",
    "\n",
    "model = LinearRegression()\n",
    "model.fit(X3_train, y3_train)\n",
    "y3_pred = model.predict(X3_test)\n",
    "evaluation(X3_test, y3_test, y3_pred, examples=False)\n",
    "\n",
    "# Save Model\n",
    "with open('../../models/linreg.pkl', 'wb') as file:\n",
    "    pickle.dump(model, file)"
   ]
  },
  {
   "cell_type": "markdown",
   "metadata": {},
   "source": [
    "### Ridge Linear Regression"
   ]
  },
  {
   "cell_type": "code",
   "execution_count": 109,
   "metadata": {},
   "outputs": [
    {
     "name": "stdout",
     "output_type": "stream",
     "text": [
      "MAE: 0.016357997171470497\n",
      "2023-03-14 01:00:00+00:00: | Actual y: 41.5 | Predicted y: [41.49555901]\n",
      "2023-03-14 01:00:01+00:00: | Actual y: 41.5 | Predicted y: [41.49546471]\n",
      "2023-03-14 01:00:02+00:00: | Actual y: 41.5 | Predicted y: [41.49553625]\n",
      "2023-03-14 01:00:03+00:00: | Actual y: 41.5 | Predicted y: [41.49550707]\n",
      "2023-03-14 01:00:04+00:00: | Actual y: 41.5 | Predicted y: [41.49584151]\n"
     ]
    }
   ],
   "source": [
    "from sklearn.linear_model import Ridge\n",
    "\n",
    "# Train the model\n",
    "model = Ridge(alpha=1.0)\n",
    "model.fit(X1_train_night, y1_train_night)\n",
    "\n",
    "# Make predictions\n",
    "y_pred = model.predict(X1_test_night)\n",
    "\n",
    "evaluation(X1_test_night, y1_test_night, y_pred)"
   ]
  },
  {
   "cell_type": "markdown",
   "metadata": {},
   "source": [
    "### Lasso Linear Regression"
   ]
  },
  {
   "cell_type": "code",
   "execution_count": 111,
   "metadata": {},
   "outputs": [
    {
     "name": "stdout",
     "output_type": "stream",
     "text": [
      "MAE: 0.022400123684820236\n",
      "2023-03-14 01:00:00+00:00: | Actual y: 41.5 | Predicted y: 41.48714823408264\n",
      "2023-03-14 01:00:01+00:00: | Actual y: 41.5 | Predicted y: 41.48714823408264\n",
      "2023-03-14 01:00:02+00:00: | Actual y: 41.5 | Predicted y: 41.48714823408264\n",
      "2023-03-14 01:00:03+00:00: | Actual y: 41.5 | Predicted y: 41.48714823408264\n",
      "2023-03-14 01:00:04+00:00: | Actual y: 41.5 | Predicted y: 41.48714823408264\n"
     ]
    }
   ],
   "source": [
    "from sklearn.linear_model import Lasso\n",
    "\n",
    "# Train the model\n",
    "model = Lasso(alpha=0.1)\n",
    "model.fit(X1_train_night, y1_train_night)\n",
    "\n",
    "# Make predictions\n",
    "y_pred = model.predict(X1_test_night)\n",
    "\n",
    "evaluation(X1_test_night, y1_test_night, y_pred)"
   ]
  },
  {
   "cell_type": "markdown",
   "metadata": {},
   "source": [
    "## XGBoost"
   ]
  },
  {
   "cell_type": "code",
   "execution_count": 37,
   "metadata": {},
   "outputs": [
    {
     "name": "stdout",
     "output_type": "stream",
     "text": [
      "MAE: 0.1766035124962132\n",
      "MSE: 0.03828374557616717\n",
      "RMSE: 0.19566232538781494\n",
      "2023-03-16 01:00:00+00:00: | Actual y: 41.5 | Predicted y: 41.30536651611328\n",
      "2023-03-16 01:00:01+00:00: | Actual y: 41.5 | Predicted y: 41.30536651611328\n",
      "2023-03-16 01:00:02+00:00: | Actual y: 41.5 | Predicted y: 41.30536651611328\n",
      "2023-03-16 01:00:03+00:00: | Actual y: 41.5 | Predicted y: 41.30536651611328\n",
      "2023-03-16 01:00:04+00:00: | Actual y: 41.5 | Predicted y: 41.30536651611328\n"
     ]
    }
   ],
   "source": [
    "import xgboost as xgb\n",
    "\n",
    "# Convert the data into DMatrix format\n",
    "dtrain = xgb.DMatrix(X_train, label=y_train)\n",
    "dtest = xgb.DMatrix(X_test, label=y_test)\n",
    "\n",
    "# Set the parameters for XGBoost\n",
    "params = {\n",
    "    'objective': 'reg:squarederror',\n",
    "    'eval_metric': 'rmse'\n",
    "}\n",
    "\n",
    "# Train the XGBoost model\n",
    "model = xgb.train(params, dtrain)\n",
    "\n",
    "# Make predictions on the testing data\n",
    "y_pred = model.predict(dtest)\n",
    "\n",
    "evaluation(X_test, y_test, y_pred)"
   ]
  },
  {
   "cell_type": "code",
   "execution_count": null,
   "metadata": {},
   "outputs": [
    {
     "name": "stdout",
     "output_type": "stream",
     "text": [
      "MAE: 0.21534708539246938\n",
      "MSE: 0.1916308900449985\n",
      "RMSE: 0.43775665619725135\n"
     ]
    }
   ],
   "source": [
    "from sklearn.decomposition import PCA\n",
    "import xgboost as xgb\n",
    "\n",
    "\n",
    "\n",
    "# Perform PCA\n",
    "pca = PCA(n_components=2)\n",
    "X_pca = pca.fit_transform(X1)\n",
    "\n",
    "# # Custom Split\n",
    "# X_train = X_pca\n",
    "# y_train = y1\n",
    "# X_test = eval_3_x\n",
    "# y_test = eval_3_y\n",
    "\n",
    "# Split the data into training and testing sets\n",
    "pca_X_train, pca_X_test, pca_y_train, pca_y_test = train_test_split(X_pca, y1, test_size=0.2, random_state=42)\n",
    "\n",
    "# Convert the data into DMatrix format\n",
    "dtrain = xgb.DMatrix(pca_X_train, label=pca_y_train)\n",
    "dtest = xgb.DMatrix(pca_X_test, label=pca_y_test)\n",
    "\n",
    "# Set the parameters for XGBoost\n",
    "params = {\n",
    "    'objective': 'reg:squarederror',\n",
    "    'eval_metric': 'rmse'\n",
    "}\n",
    "\n",
    "# Train the XGBoost model\n",
    "model = xgb.train(params, dtrain)\n",
    "\n",
    "# Make predictions on the testing data\n",
    "y_pred = model.predict(dtest)\n",
    "\n",
    "evaluation(pca_X_test, pca_y_test, y_pred, pca=True)"
   ]
  },
  {
   "cell_type": "code",
   "execution_count": 39,
   "metadata": {},
   "outputs": [],
   "source": [
    "# PCA Calculation\n",
    "# Standardize the features using z-score\n",
    "scaler = StandardScaler()\n",
    "X_scaled = scaler.fit_transform(X_train)\n",
    "\n",
    "# Perform PCA\n",
    "pca = PCA()\n",
    "pca.fit_transform(X_scaled)\n",
    "\n",
    "# Calculate non-cumulative PVE\n",
    "non_cumulative_pve = pca.explained_variance_ratio_\n",
    "\n",
    "# Calculate cumulative PVE\n",
    "cumulative_pve = np.cumsum(non_cumulative_pve)"
   ]
  },
  {
   "cell_type": "code",
   "execution_count": 40,
   "metadata": {},
   "outputs": [
    {
     "data": {
      "image/png": "[encoded data removed]",
      "text/plain": [
       "<Figure size 640x480 with 1 Axes>"
      ]
     },
     "metadata": {},
     "output_type": "display_data"
    },
    {
     "data": {
      "image/png": "[encoded data removed]",
      "text/plain": [
       "<Figure size 640x480 with 1 Axes>"
      ]
     },
     "metadata": {},
     "output_type": "display_data"
    }
   ],
   "source": [
    "# Plot non-cumulative PVE\n",
    "plt.bar(range(len(non_cumulative_pve)), non_cumulative_pve)\n",
    "plt.xlabel('Number of Components')\n",
    "plt.ylabel('Proportion of Variance Explained')\n",
    "plt.title('Non-Cumulative Proportion of Variance Explained')\n",
    "plt.show()\n",
    "\n",
    "# Plot cumulative PVE\n",
    "plt.plot(cumulative_pve, marker=\"X\")\n",
    "plt.xlabel('Number of Components')\n",
    "plt.ylabel('Cumulative Proportion of Variance Explained')\n",
    "plt.title('Cumulative Proportion of Variance Explained')\n",
    "plt.show()"
   ]
  },
  {
   "cell_type": "code",
   "execution_count": null,
   "metadata": {},
   "outputs": [
    {
     "ename": "XGBoostError",
     "evalue": "[09:03:58] /workspace/src/metric/metric.cc:49: Unknown metric function mse\nStack trace:\n  [bt] (0) /home/codespace/.python/current/lib/python3.10/site-packages/xgboost/lib/libxgboost.so(+0x1ba24e) [0x7fc79473224e]\n  [bt] (1) /home/codespace/.python/current/lib/python3.10/site-packages/xgboost/lib/libxgboost.so(+0x4f7e7e) [0x7fc794a6fe7e]\n  [bt] (2) /home/codespace/.python/current/lib/python3.10/site-packages/xgboost/lib/libxgboost.so(+0x4ccdd3) [0x7fc794a44dd3]\n  [bt] (3) /home/codespace/.python/current/lib/python3.10/site-packages/xgboost/lib/libxgboost.so(+0x4c5268) [0x7fc794a3d268]\n  [bt] (4) /home/codespace/.python/current/lib/python3.10/site-packages/xgboost/lib/libxgboost.so(XGBoosterUpdateOneIter+0x70) [0x7fc7946d9ef0]\n  [bt] (5) /lib/x86_64-linux-gnu/libffi.so.7(+0x6ff5) [0x7fc86ef4fff5]\n  [bt] (6) /lib/x86_64-linux-gnu/libffi.so.7(+0x640a) [0x7fc86ef4f40a]\n  [bt] (7) /home/codespace/.python/current/lib/python3.10/lib-dynload/_ctypes.cpython-310-x86_64-linux-gnu.so(+0x12f51) [0x7fc86f1f5f51]\n  [bt] (8) /home/codespace/.python/current/lib/python3.10/lib-dynload/_ctypes.cpython-310-x86_64-linux-gnu.so(+0xca11) [0x7fc86f1efa11]\n\n",
     "output_type": "error",
     "traceback": [
      "\u001b[0;31m---------------------------------------------------------------------------\u001b[0m\n",
      "\u001b[0;31mXGBoostError\u001b[0m                              Traceback (most recent call last)\n",
      "\u001b[1;32m/workspaces/OWL_Factory_Hackathon/notebooks/1_explorative_data_analysis/eda_karl.ipynb Zelle 39\u001b[0m line \u001b[0;36m2\n",
      "\u001b[1;32m     <a href='vscode-notebook-cell://codespaces%2Bsilver-cod-x7v49xpxjxgfgj/workspaces/OWL_Factory_Hackathon/notebooks/1_explorative_data_analysis/eda_karl.ipynb#X53sdnNjb2RlLXJlbW90ZQ%3D%3D?line=18'>19</a>\u001b[0m params \u001b[39m=\u001b[39m {\n",
      "\u001b[1;32m     <a href='vscode-notebook-cell://codespaces%2Bsilver-cod-x7v49xpxjxgfgj/workspaces/OWL_Factory_Hackathon/notebooks/1_explorative_data_analysis/eda_karl.ipynb#X53sdnNjb2RlLXJlbW90ZQ%3D%3D?line=19'>20</a>\u001b[0m     \u001b[39m'\u001b[39m\u001b[39mobjective\u001b[39m\u001b[39m'\u001b[39m: \u001b[39m'\u001b[39m\u001b[39mreg:squarederror\u001b[39m\u001b[39m'\u001b[39m,\n",
      "\u001b[1;32m     <a href='vscode-notebook-cell://codespaces%2Bsilver-cod-x7v49xpxjxgfgj/workspaces/OWL_Factory_Hackathon/notebooks/1_explorative_data_analysis/eda_karl.ipynb#X53sdnNjb2RlLXJlbW90ZQ%3D%3D?line=20'>21</a>\u001b[0m     \u001b[39m'\u001b[39m\u001b[39meval_metric\u001b[39m\u001b[39m'\u001b[39m: \u001b[39m'\u001b[39m\u001b[39mmse\u001b[39m\u001b[39m'\u001b[39m\n",
      "\u001b[1;32m     <a href='vscode-notebook-cell://codespaces%2Bsilver-cod-x7v49xpxjxgfgj/workspaces/OWL_Factory_Hackathon/notebooks/1_explorative_data_analysis/eda_karl.ipynb#X53sdnNjb2RlLXJlbW90ZQ%3D%3D?line=21'>22</a>\u001b[0m }\n",
      "\u001b[1;32m     <a href='vscode-notebook-cell://codespaces%2Bsilver-cod-x7v49xpxjxgfgj/workspaces/OWL_Factory_Hackathon/notebooks/1_explorative_data_analysis/eda_karl.ipynb#X53sdnNjb2RlLXJlbW90ZQ%3D%3D?line=23'>24</a>\u001b[0m \u001b[39m# Train the XGBoost model\u001b[39;00m\n",
      "\u001b[0;32m---> <a href='vscode-notebook-cell://codespaces%2Bsilver-cod-x7v49xpxjxgfgj/workspaces/OWL_Factory_Hackathon/notebooks/1_explorative_data_analysis/eda_karl.ipynb#X53sdnNjb2RlLXJlbW90ZQ%3D%3D?line=24'>25</a>\u001b[0m model \u001b[39m=\u001b[39m xgb\u001b[39m.\u001b[39;49mtrain(params, dtrain)\n",
      "\u001b[1;32m     <a href='vscode-notebook-cell://codespaces%2Bsilver-cod-x7v49xpxjxgfgj/workspaces/OWL_Factory_Hackathon/notebooks/1_explorative_data_analysis/eda_karl.ipynb#X53sdnNjb2RlLXJlbW90ZQ%3D%3D?line=26'>27</a>\u001b[0m \u001b[39m# Make predictions on the testing data\u001b[39;00m\n",
      "\u001b[1;32m     <a href='vscode-notebook-cell://codespaces%2Bsilver-cod-x7v49xpxjxgfgj/workspaces/OWL_Factory_Hackathon/notebooks/1_explorative_data_analysis/eda_karl.ipynb#X53sdnNjb2RlLXJlbW90ZQ%3D%3D?line=27'>28</a>\u001b[0m y_pred \u001b[39m=\u001b[39m model\u001b[39m.\u001b[39mpredict(dtest)\n",
      "\n",
      "File \u001b[0;32m~/.python/current/lib/python3.10/site-packages/xgboost/core.py:729\u001b[0m, in \u001b[0;36mrequire_keyword_args.<locals>.throw_if.<locals>.inner_f\u001b[0;34m(*args, **kwargs)\u001b[0m\n",
      "\u001b[1;32m    727\u001b[0m \u001b[39mfor\u001b[39;00m k, arg \u001b[39min\u001b[39;00m \u001b[39mzip\u001b[39m(sig\u001b[39m.\u001b[39mparameters, args):\n",
      "\u001b[1;32m    728\u001b[0m     kwargs[k] \u001b[39m=\u001b[39m arg\n",
      "\u001b[0;32m--> 729\u001b[0m \u001b[39mreturn\u001b[39;00m func(\u001b[39m*\u001b[39;49m\u001b[39m*\u001b[39;49mkwargs)\n",
      "\n",
      "File \u001b[0;32m~/.python/current/lib/python3.10/site-packages/xgboost/training.py:181\u001b[0m, in \u001b[0;36mtrain\u001b[0;34m(params, dtrain, num_boost_round, evals, obj, feval, maximize, early_stopping_rounds, evals_result, verbose_eval, xgb_model, callbacks, custom_metric)\u001b[0m\n",
      "\u001b[1;32m    179\u001b[0m \u001b[39mif\u001b[39;00m cb_container\u001b[39m.\u001b[39mbefore_iteration(bst, i, dtrain, evals):\n",
      "\u001b[1;32m    180\u001b[0m     \u001b[39mbreak\u001b[39;00m\n",
      "\u001b[0;32m--> 181\u001b[0m bst\u001b[39m.\u001b[39;49mupdate(dtrain, i, obj)\n",
      "\u001b[1;32m    182\u001b[0m \u001b[39mif\u001b[39;00m cb_container\u001b[39m.\u001b[39mafter_iteration(bst, i, dtrain, evals):\n",
      "\u001b[1;32m    183\u001b[0m     \u001b[39mbreak\u001b[39;00m\n",
      "\n",
      "File \u001b[0;32m~/.python/current/lib/python3.10/site-packages/xgboost/core.py:2049\u001b[0m, in \u001b[0;36mBooster.update\u001b[0;34m(self, dtrain, iteration, fobj)\u001b[0m\n",
      "\u001b[1;32m   2046\u001b[0m \u001b[39mself\u001b[39m\u001b[39m.\u001b[39m_assign_dmatrix_features(dtrain)\n",
      "\u001b[1;32m   2048\u001b[0m \u001b[39mif\u001b[39;00m fobj \u001b[39mis\u001b[39;00m \u001b[39mNone\u001b[39;00m:\n",
      "\u001b[0;32m-> 2049\u001b[0m     _check_call(\n",
      "\u001b[1;32m   2050\u001b[0m         _LIB\u001b[39m.\u001b[39;49mXGBoosterUpdateOneIter(\n",
      "\u001b[1;32m   2051\u001b[0m             \u001b[39mself\u001b[39;49m\u001b[39m.\u001b[39;49mhandle, ctypes\u001b[39m.\u001b[39;49mc_int(iteration), dtrain\u001b[39m.\u001b[39;49mhandle\n",
      "\u001b[1;32m   2052\u001b[0m         )\n",
      "\u001b[1;32m   2053\u001b[0m     )\n",
      "\u001b[1;32m   2054\u001b[0m \u001b[39melse\u001b[39;00m:\n",
      "\u001b[1;32m   2055\u001b[0m     pred \u001b[39m=\u001b[39m \u001b[39mself\u001b[39m\u001b[39m.\u001b[39mpredict(dtrain, output_margin\u001b[39m=\u001b[39m\u001b[39mTrue\u001b[39;00m, training\u001b[39m=\u001b[39m\u001b[39mTrue\u001b[39;00m)\n",
      "\n",
      "File \u001b[0;32m~/.python/current/lib/python3.10/site-packages/xgboost/core.py:281\u001b[0m, in \u001b[0;36m_check_call\u001b[0;34m(ret)\u001b[0m\n",
      "\u001b[1;32m    270\u001b[0m \u001b[39m\u001b[39m\u001b[39m\"\"\"Check the return value of C API call\u001b[39;00m\n",
      "\u001b[1;32m    271\u001b[0m \n",
      "\u001b[1;32m    272\u001b[0m \u001b[39mThis function will raise exception when error occurs.\u001b[39;00m\n",
      "\u001b[0;32m   (...)\u001b[0m\n",
      "\u001b[1;32m    278\u001b[0m \u001b[39m    return value from API calls\u001b[39;00m\n",
      "\u001b[1;32m    279\u001b[0m \u001b[39m\"\"\"\u001b[39;00m\n",
      "\u001b[1;32m    280\u001b[0m \u001b[39mif\u001b[39;00m ret \u001b[39m!=\u001b[39m \u001b[39m0\u001b[39m:\n",
      "\u001b[0;32m--> 281\u001b[0m     \u001b[39mraise\u001b[39;00m XGBoostError(py_str(_LIB\u001b[39m.\u001b[39mXGBGetLastError()))\n",
      "\n",
      "\u001b[0;31mXGBoostError\u001b[0m: [09:03:58] /workspace/src/metric/metric.cc:49: Unknown metric function mse\n",
      "Stack trace:\n",
      "  [bt] (0) /home/codespace/.python/current/lib/python3.10/site-packages/xgboost/lib/libxgboost.so(+0x1ba24e) [0x7fc79473224e]\n",
      "  [bt] (1) /home/codespace/.python/current/lib/python3.10/site-packages/xgboost/lib/libxgboost.so(+0x4f7e7e) [0x7fc794a6fe7e]\n",
      "  [bt] (2) /home/codespace/.python/current/lib/python3.10/site-packages/xgboost/lib/libxgboost.so(+0x4ccdd3) [0x7fc794a44dd3]\n",
      "  [bt] (3) /home/codespace/.python/current/lib/python3.10/site-packages/xgboost/lib/libxgboost.so(+0x4c5268) [0x7fc794a3d268]\n",
      "  [bt] (4) /home/codespace/.python/current/lib/python3.10/site-packages/xgboost/lib/libxgboost.so(XGBoosterUpdateOneIter+0x70) [0x7fc7946d9ef0]\n",
      "  [bt] (5) /lib/x86_64-linux-gnu/libffi.so.7(+0x6ff5) [0x7fc86ef4fff5]\n",
      "  [bt] (6) /lib/x86_64-linux-gnu/libffi.so.7(+0x640a) [0x7fc86ef4f40a]\n",
      "  [bt] (7) /home/codespace/.python/current/lib/python3.10/lib-dynload/_ctypes.cpython-310-x86_64-linux-gnu.so(+0x12f51) [0x7fc86f1f5f51]\n",
      "  [bt] (8) /home/codespace/.python/current/lib/python3.10/lib-dynload/_ctypes.cpython-310-x86_64-linux-gnu.so(+0xca11) [0x7fc86f1efa11]\n",
      "\n"
     ]
    }
   ],
   "source": [
    "from sklearn.preprocessing import StandardScaler\n",
    "\n",
    "# Standardize the features using z-score\n",
    "scaler = StandardScaler()\n",
    "X_scaled = scaler.fit_transform(X_train)\n",
    "\n",
    "# Perform PCA\n",
    "pca = PCA(n_components=2)\n",
    "X_pca = pca.fit_transform(X_scaled)\n",
    "\n",
    "# Split the data into training and testing sets\n",
    "pca_X_train, pca_X_test, pca_y_train, pca_y_test = train_test_split(X_scaled, y_train, test_size=0.2, random_state=42)\n",
    "\n",
    "# Convert the data into DMatrix format\n",
    "dtrain = xgb.DMatrix(pca_X_train, label=pca_y_train)\n",
    "dtest = xgb.DMatrix(pca_X_test, label=pca_y_test)\n",
    "\n",
    "# Set the parameters for XGBoost\n",
    "params = {\n",
    "    'objective': 'reg:squarederror',\n",
    "    'eval_metric': 'mse'\n",
    "}\n",
    "\n",
    "# Train the XGBoost model\n",
    "model = xgb.train(params, dtrain)\n",
    "\n",
    "# Make predictions on the testing data\n",
    "y_pred = model.predict(dtest)\n",
    "\n",
    "evaluation(pca_X_test, pca_y_test, y_pred, pca=True)"
   ]
  }
 ],
 "metadata": {
  "kernelspec": {
   "display_name": "Python 3",
   "language": "python",
   "name": "python3"
  },
  "language_info": {
   "codemirror_mode": {
    "name": "ipython",
    "version": 3
   },
   "file_extension": ".py",
   "mimetype": "text/x-python",
   "name": "python",
   "nbconvert_exporter": "python",
   "pygments_lexer": "ipython3",
   "version": "3.10.8"
  }
 },
 "nbformat": 4,
 "nbformat_minor": 2
}
