{
 "cells": [
  {
   "cell_type": "code",
   "execution_count": 14,
   "metadata": {},
   "outputs": [],
   "source": [
    "import numpy as np\n",
    "import pandas as pd\n",
    "import pickle \n",
    "from sklearn.linear_model import LinearRegression\n",
    "from sklearn.metrics import mean_absolute_error, mean_squared_error\n",
    "\n"
   ]
  },
  {
   "cell_type": "code",
   "execution_count": 8,
   "metadata": {},
   "outputs": [],
   "source": [
    "X = pd.read_parquet('../../data/preprocessed/test_x.pq')\n",
    "y = pd.read_parquet('../../data/preprocessed/test_y.pq')"
   ]
  },
  {
   "cell_type": "code",
   "execution_count": 9,
   "metadata": {},
   "outputs": [],
   "source": [
    "# Open the file containing the pickled model in binary mode\n",
    "with open('../../models/linreg.pkl', 'rb') as file:\n",
    "    # Load the model using pickle\n",
    "    model = pickle.load(file)\n",
    "\n",
    "# Close the file\n",
    "file.close()\n",
    "\n",
    "# Now 'model' contains the loaded model\n"
   ]
  },
  {
   "cell_type": "markdown",
   "metadata": {},
   "source": []
  },
  {
   "cell_type": "code",
   "execution_count": 54,
   "metadata": {},
   "outputs": [],
   "source": [
    "def evaluation(X_test, y_test, y_pred, pca=False, examples=True):\n",
    "    list1 = [item for sublist in y_test.values for item in sublist]\n",
    "    list2 = [item for sublist in y_pred for item in sublist]\n",
    "\n",
    "\n",
    "    \n",
    "    \n",
    "\n",
    "    # Calculate absolute differences element-wise\n",
    "    abweichung = []\n",
    "    for a, b in zip(list1, list2):\n",
    "        \n",
    "        abweichung.append(abs(a - b))    # Give points\n",
    "    points = []\n",
    "    for diff in abweichung:\n",
    "        if diff < 0.05:\n",
    "            points.append(1.0)\n",
    "        elif 0.05 <= diff < 0.1:\n",
    "            points.append(0.5)\n",
    "        elif 0.1 <= diff < 0.5:\n",
    "            points.append(0.25)\n",
    "        else:\n",
    "            points.append(0) \n",
    "\n",
    "    list1 = points\n",
    "\n",
    "    points2 = [] \n",
    "    consecutive_count =0      \n",
    "    for i in range(0, len(list1)):\n",
    "        \n",
    "        if list1[i] >=0.5 and consecutive_count == 0 :\n",
    "\n",
    "            points2.append (1)\n",
    "\n",
    "        elif list1[i] >=0.5 and consecutive_count != 0:\n",
    "\n",
    "            if consecutive_count == 1:\n",
    "                points2.append (.5)\n",
    "                points2.append(1)\n",
    "     \n",
    "            elif 2 <= consecutive_count <= 10:\n",
    "                points2.extend([0.25] * consecutive_count)\n",
    "                points2.append(1)\n",
    "            else:\n",
    "                points2.extend([0] * consecutive_count)\n",
    "                points2.append(1)\n",
    "\n",
    "            consecutive_count = 0# Reset consecutive count\n",
    "\n",
    "        else:\n",
    "            consecutive_count+=1\n",
    "\n",
    "    \n",
    "    if consecutive_count == 1:\n",
    "        points2.append (.5)\n",
    "    elif 2 <= consecutive_count <= 10:\n",
    "        points2.extend([0.25] * consecutive_count)\n",
    "    else:\n",
    "        points2.extend([0] * consecutive_count)\n",
    "\n",
    "\n",
    "\n",
    "    total = sum(points)+sum(points2) \n",
    "    maxpoint = len(points)*2\n",
    "\n",
    "    print(\" Punkte aus abweichungslist:\", sum(points), \"Punkte aus Zeitabweichung:\", sum(points2), \"max Punkte:\",len(points))\n",
    "\n",
    "    print(total/maxpoint)\n",
    "\n",
    "\n",
    "\n",
    " \n",
    "\n",
    "    if not pca and examples:\n",
    "        # Print some example predictions\n",
    "        example_indices = [0, 1, 2, 3, 4]\n",
    "        for i in example_indices:\n",
    "            print(f\"{X_test.index[i]}: | Actual y: {y_test.iloc[i, 0]} | Predicted y: {y_pred[i]}\")\n",
    "\n",
    "\n",
    " \n",
    "        \n",
    "    \n",
    "    \n",
    "    \n",
    "\n",
    "\n",
    "\n",
    "\n",
    "\n",
    "# Utility Functions\n",
    "def add_time_features(df):\n",
    "    df['hour'] = df.index.hour\n",
    "    df['minute'] = df.index.minute\n",
    "    daytime_arr = []\n",
    "    for idx in df.index:\n",
    "        if df.loc[idx, \"hour\"] >= 6 and df.loc[idx, \"hour\"] <= 18:\n",
    "            daytime_arr.append(1)\n",
    "        else:\n",
    "            daytime_arr.append(0)\n",
    "\n",
    "    df['day_time'] = daytime_arr\n",
    "    df['night_time'] = 1 - df['day_time']\n",
    "    return df"
   ]
  },
  {
   "cell_type": "code",
   "execution_count": 55,
   "metadata": {},
   "outputs": [
    {
     "name": "stdout",
     "output_type": "stream",
     "text": [
      " Punkte aus abweichungslist: 106085.75 Punkte aus Zeitabweichung: 112232.5 max Punkte: 205203\n",
      "0.5319567696378708\n"
     ]
    }
   ],
   "source": [
    "\n",
    "X = add_time_features(X)\n",
    "\n",
    "# Make predictions on the testing data\n",
    "y_pred = model.predict(X)\n",
    "\n",
    "evaluation(X, y, y_pred, examples=False)\n"
   ]
  }
 ],
 "metadata": {
  "kernelspec": {
   "display_name": "Python 3",
   "language": "python",
   "name": "python3"
  },
  "language_info": {
   "codemirror_mode": {
    "name": "ipython",
    "version": 3
   },
   "file_extension": ".py",
   "mimetype": "text/x-python",
   "name": "python",
   "nbconvert_exporter": "python",
   "pygments_lexer": "ipython3",
   "version": "3.10.8"
  }
 },
 "nbformat": 4,
 "nbformat_minor": 2
}
